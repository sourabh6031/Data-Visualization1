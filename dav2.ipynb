{
 "cells": [
  {
   "cell_type": "code",
   "execution_count": 1,
   "id": "53481af8",
   "metadata": {},
   "outputs": [],
   "source": [
    "import pandas as pd\n",
    "import numpy as np\n",
    "import matplotlib.pyplot as plt\n",
    "import seaborn as sns"
   ]
  },
  {
   "cell_type": "code",
   "execution_count": 2,
   "id": "e2e3b4d8",
   "metadata": {},
   "outputs": [
    {
     "data": {
      "text/html": [
       "<div>\n",
       "<style scoped>\n",
       "    .dataframe tbody tr th:only-of-type {\n",
       "        vertical-align: middle;\n",
       "    }\n",
       "\n",
       "    .dataframe tbody tr th {\n",
       "        vertical-align: top;\n",
       "    }\n",
       "\n",
       "    .dataframe thead th {\n",
       "        text-align: right;\n",
       "    }\n",
       "</style>\n",
       "<table border=\"1\" class=\"dataframe\">\n",
       "  <thead>\n",
       "    <tr style=\"text-align: right;\">\n",
       "      <th></th>\n",
       "      <th>Rank</th>\n",
       "      <th>Name</th>\n",
       "      <th>Platform</th>\n",
       "      <th>Year</th>\n",
       "      <th>Genre</th>\n",
       "      <th>Publisher</th>\n",
       "      <th>NA_Sales</th>\n",
       "      <th>EU_Sales</th>\n",
       "      <th>JP_Sales</th>\n",
       "      <th>Other_Sales</th>\n",
       "      <th>Global_Sales</th>\n",
       "    </tr>\n",
       "  </thead>\n",
       "  <tbody>\n",
       "    <tr>\n",
       "      <th>0</th>\n",
       "      <td>2061</td>\n",
       "      <td>1942</td>\n",
       "      <td>NES</td>\n",
       "      <td>1985.0</td>\n",
       "      <td>Shooter</td>\n",
       "      <td>Capcom</td>\n",
       "      <td>4.569217</td>\n",
       "      <td>3.033887</td>\n",
       "      <td>3.439352</td>\n",
       "      <td>1.991671</td>\n",
       "      <td>12.802935</td>\n",
       "    </tr>\n",
       "    <tr>\n",
       "      <th>1</th>\n",
       "      <td>9137</td>\n",
       "      <td>¡Shin Chan Flipa en colores!</td>\n",
       "      <td>DS</td>\n",
       "      <td>2007.0</td>\n",
       "      <td>Platform</td>\n",
       "      <td>505 Games</td>\n",
       "      <td>2.076955</td>\n",
       "      <td>1.493442</td>\n",
       "      <td>3.033887</td>\n",
       "      <td>0.394830</td>\n",
       "      <td>7.034163</td>\n",
       "    </tr>\n",
       "    <tr>\n",
       "      <th>2</th>\n",
       "      <td>14279</td>\n",
       "      <td>.hack: Sekai no Mukou ni + Versus</td>\n",
       "      <td>PS3</td>\n",
       "      <td>2012.0</td>\n",
       "      <td>Action</td>\n",
       "      <td>Namco Bandai Games</td>\n",
       "      <td>1.145709</td>\n",
       "      <td>1.762339</td>\n",
       "      <td>1.493442</td>\n",
       "      <td>0.408693</td>\n",
       "      <td>4.982552</td>\n",
       "    </tr>\n",
       "    <tr>\n",
       "      <th>3</th>\n",
       "      <td>8359</td>\n",
       "      <td>.hack//G.U. Vol.1//Rebirth</td>\n",
       "      <td>PS2</td>\n",
       "      <td>2006.0</td>\n",
       "      <td>Role-Playing</td>\n",
       "      <td>Namco Bandai Games</td>\n",
       "      <td>2.031986</td>\n",
       "      <td>1.389856</td>\n",
       "      <td>3.228043</td>\n",
       "      <td>0.394830</td>\n",
       "      <td>7.226880</td>\n",
       "    </tr>\n",
       "    <tr>\n",
       "      <th>4</th>\n",
       "      <td>7109</td>\n",
       "      <td>.hack//G.U. Vol.2//Reminisce</td>\n",
       "      <td>PS2</td>\n",
       "      <td>2006.0</td>\n",
       "      <td>Role-Playing</td>\n",
       "      <td>Namco Bandai Games</td>\n",
       "      <td>2.792725</td>\n",
       "      <td>2.592054</td>\n",
       "      <td>1.440483</td>\n",
       "      <td>1.493442</td>\n",
       "      <td>8.363113</td>\n",
       "    </tr>\n",
       "    <tr>\n",
       "      <th>...</th>\n",
       "      <td>...</td>\n",
       "      <td>...</td>\n",
       "      <td>...</td>\n",
       "      <td>...</td>\n",
       "      <td>...</td>\n",
       "      <td>...</td>\n",
       "      <td>...</td>\n",
       "      <td>...</td>\n",
       "      <td>...</td>\n",
       "      <td>...</td>\n",
       "      <td>...</td>\n",
       "    </tr>\n",
       "    <tr>\n",
       "      <th>16647</th>\n",
       "      <td>7925</td>\n",
       "      <td>Zumba Fitness Rush</td>\n",
       "      <td>X360</td>\n",
       "      <td>2012.0</td>\n",
       "      <td>Sports</td>\n",
       "      <td>505 Games</td>\n",
       "      <td>4.409308</td>\n",
       "      <td>3.167419</td>\n",
       "      <td>4.168474</td>\n",
       "      <td>1.087977</td>\n",
       "      <td>13.053204</td>\n",
       "    </tr>\n",
       "    <tr>\n",
       "      <th>16648</th>\n",
       "      <td>6279</td>\n",
       "      <td>Zumba Fitness: World Party</td>\n",
       "      <td>Wii</td>\n",
       "      <td>2013.0</td>\n",
       "      <td>Misc</td>\n",
       "      <td>Majesco Entertainment</td>\n",
       "      <td>3.033887</td>\n",
       "      <td>2.792725</td>\n",
       "      <td>1.596852</td>\n",
       "      <td>1.493442</td>\n",
       "      <td>8.878837</td>\n",
       "    </tr>\n",
       "    <tr>\n",
       "      <th>16649</th>\n",
       "      <td>6977</td>\n",
       "      <td>Zumba Fitness: World Party</td>\n",
       "      <td>XOne</td>\n",
       "      <td>2013.0</td>\n",
       "      <td>Misc</td>\n",
       "      <td>Majesco Entertainment</td>\n",
       "      <td>3.228043</td>\n",
       "      <td>2.004268</td>\n",
       "      <td>1.833151</td>\n",
       "      <td>1.087977</td>\n",
       "      <td>7.954274</td>\n",
       "    </tr>\n",
       "    <tr>\n",
       "      <th>16650</th>\n",
       "      <td>15422</td>\n",
       "      <td>Zwei!!</td>\n",
       "      <td>PSP</td>\n",
       "      <td>2008.0</td>\n",
       "      <td>Role-Playing</td>\n",
       "      <td>Falcom Corporation</td>\n",
       "      <td>1.087977</td>\n",
       "      <td>0.592445</td>\n",
       "      <td>1.087977</td>\n",
       "      <td>0.394830</td>\n",
       "      <td>3.509168</td>\n",
       "    </tr>\n",
       "    <tr>\n",
       "      <th>16651</th>\n",
       "      <td>12919</td>\n",
       "      <td>Zyuden Sentai Kyoryuger: Game de Gaburincho!!</td>\n",
       "      <td>3DS</td>\n",
       "      <td>2013.0</td>\n",
       "      <td>Action</td>\n",
       "      <td>Namco Bandai Games</td>\n",
       "      <td>1.081046</td>\n",
       "      <td>1.714664</td>\n",
       "      <td>2.004268</td>\n",
       "      <td>0.394830</td>\n",
       "      <td>5.132196</td>\n",
       "    </tr>\n",
       "  </tbody>\n",
       "</table>\n",
       "<p>16652 rows × 11 columns</p>\n",
       "</div>"
      ],
      "text/plain": [
       "        Rank                                           Name Platform    Year  \\\n",
       "0       2061                                           1942      NES  1985.0   \n",
       "1       9137                   ¡Shin Chan Flipa en colores!       DS  2007.0   \n",
       "2      14279              .hack: Sekai no Mukou ni + Versus      PS3  2012.0   \n",
       "3       8359                     .hack//G.U. Vol.1//Rebirth      PS2  2006.0   \n",
       "4       7109                   .hack//G.U. Vol.2//Reminisce      PS2  2006.0   \n",
       "...      ...                                            ...      ...     ...   \n",
       "16647   7925                             Zumba Fitness Rush     X360  2012.0   \n",
       "16648   6279                     Zumba Fitness: World Party      Wii  2013.0   \n",
       "16649   6977                     Zumba Fitness: World Party     XOne  2013.0   \n",
       "16650  15422                                         Zwei!!      PSP  2008.0   \n",
       "16651  12919  Zyuden Sentai Kyoryuger: Game de Gaburincho!!      3DS  2013.0   \n",
       "\n",
       "              Genre              Publisher  NA_Sales  EU_Sales  JP_Sales  \\\n",
       "0           Shooter                 Capcom  4.569217  3.033887  3.439352   \n",
       "1          Platform              505 Games  2.076955  1.493442  3.033887   \n",
       "2            Action     Namco Bandai Games  1.145709  1.762339  1.493442   \n",
       "3      Role-Playing     Namco Bandai Games  2.031986  1.389856  3.228043   \n",
       "4      Role-Playing     Namco Bandai Games  2.792725  2.592054  1.440483   \n",
       "...             ...                    ...       ...       ...       ...   \n",
       "16647        Sports              505 Games  4.409308  3.167419  4.168474   \n",
       "16648          Misc  Majesco Entertainment  3.033887  2.792725  1.596852   \n",
       "16649          Misc  Majesco Entertainment  3.228043  2.004268  1.833151   \n",
       "16650  Role-Playing     Falcom Corporation  1.087977  0.592445  1.087977   \n",
       "16651        Action     Namco Bandai Games  1.081046  1.714664  2.004268   \n",
       "\n",
       "       Other_Sales  Global_Sales  \n",
       "0         1.991671     12.802935  \n",
       "1         0.394830      7.034163  \n",
       "2         0.408693      4.982552  \n",
       "3         0.394830      7.226880  \n",
       "4         1.493442      8.363113  \n",
       "...            ...           ...  \n",
       "16647     1.087977     13.053204  \n",
       "16648     1.493442      8.878837  \n",
       "16649     1.087977      7.954274  \n",
       "16650     0.394830      3.509168  \n",
       "16651     0.394830      5.132196  \n",
       "\n",
       "[16652 rows x 11 columns]"
      ]
     },
     "execution_count": 2,
     "metadata": {},
     "output_type": "execute_result"
    }
   ],
   "source": [
    "data = pd.read_csv('games.csv')\n",
    "data"
   ]
  },
  {
   "cell_type": "code",
   "execution_count": null,
   "id": "81a5dd44",
   "metadata": {},
   "outputs": [],
   "source": []
  },
  {
   "cell_type": "code",
   "execution_count": 11,
   "id": "f35fae88",
   "metadata": {},
   "outputs": [
    {
     "data": {
      "text/plain": [
       "<AxesSubplot:ylabel='Global_Sales'>"
      ]
     },
     "execution_count": 11,
     "metadata": {},
     "output_type": "execute_result"
    },
    {
     "data": {
      "image/png": "[encoded data removed]",
      "text/plain": [
       "<Figure size 864x576 with 1 Axes>"
      ]
     },
     "metadata": {
      "needs_background": "light"
     },
     "output_type": "display_data"
    }
   ],
   "source": [
    "# y here is y axis  \n",
    "plt.figure(figsize=(12,8))\n",
    "sns.boxplot(y = data['Global_Sales'])"
   ]
  },
  {
   "cell_type": "code",
   "execution_count": null,
   "id": "34ac5309",
   "metadata": {},
   "outputs": [],
   "source": []
  },
  {
   "cell_type": "code",
   "execution_count": 19,
   "id": "5e7f5b12",
   "metadata": {},
   "outputs": [
    {
     "data": {
      "text/html": [
       "<div>\n",
       "<style scoped>\n",
       "    .dataframe tbody tr th:only-of-type {\n",
       "        vertical-align: middle;\n",
       "    }\n",
       "\n",
       "    .dataframe tbody tr th {\n",
       "        vertical-align: top;\n",
       "    }\n",
       "\n",
       "    .dataframe thead th {\n",
       "        text-align: right;\n",
       "    }\n",
       "</style>\n",
       "<table border=\"1\" class=\"dataframe\">\n",
       "  <thead>\n",
       "    <tr style=\"text-align: right;\">\n",
       "      <th></th>\n",
       "      <th>Rank</th>\n",
       "      <th>Name</th>\n",
       "      <th>Platform</th>\n",
       "      <th>Year</th>\n",
       "      <th>Genre</th>\n",
       "      <th>Publisher</th>\n",
       "      <th>NA_Sales</th>\n",
       "      <th>EU_Sales</th>\n",
       "      <th>JP_Sales</th>\n",
       "      <th>Other_Sales</th>\n",
       "      <th>Global_Sales</th>\n",
       "    </tr>\n",
       "  </thead>\n",
       "  <tbody>\n",
       "    <tr>\n",
       "      <th>15934</th>\n",
       "      <td>1</td>\n",
       "      <td>Wii Sports</td>\n",
       "      <td>Wii</td>\n",
       "      <td>2006.0</td>\n",
       "      <td>Sports</td>\n",
       "      <td>Nintendo</td>\n",
       "      <td>8.725452</td>\n",
       "      <td>8.367985</td>\n",
       "      <td>6.327075</td>\n",
       "      <td>7.135349</td>\n",
       "      <td>30.555862</td>\n",
       "    </tr>\n",
       "    <tr>\n",
       "      <th>7895</th>\n",
       "      <td>3</td>\n",
       "      <td>Mario Kart Wii</td>\n",
       "      <td>Wii</td>\n",
       "      <td>2008.0</td>\n",
       "      <td>Racing</td>\n",
       "      <td>Nintendo</td>\n",
       "      <td>7.763170</td>\n",
       "      <td>7.555676</td>\n",
       "      <td>6.332366</td>\n",
       "      <td>6.196948</td>\n",
       "      <td>27.848159</td>\n",
       "    </tr>\n",
       "    <tr>\n",
       "      <th>9609</th>\n",
       "      <td>7</td>\n",
       "      <td>New Super Mario Bros.</td>\n",
       "      <td>DS</td>\n",
       "      <td>2006.0</td>\n",
       "      <td>Platform</td>\n",
       "      <td>Nintendo</td>\n",
       "      <td>7.431857</td>\n",
       "      <td>7.222459</td>\n",
       "      <td>6.871802</td>\n",
       "      <td>6.064711</td>\n",
       "      <td>27.590829</td>\n",
       "    </tr>\n",
       "    <tr>\n",
       "      <th>15936</th>\n",
       "      <td>4</td>\n",
       "      <td>Wii Sports Resort</td>\n",
       "      <td>Wii</td>\n",
       "      <td>2009.0</td>\n",
       "      <td>Sports</td>\n",
       "      <td>Nintendo</td>\n",
       "      <td>7.756840</td>\n",
       "      <td>7.398804</td>\n",
       "      <td>6.187843</td>\n",
       "      <td>6.085189</td>\n",
       "      <td>27.428677</td>\n",
       "    </tr>\n",
       "    <tr>\n",
       "      <th>9612</th>\n",
       "      <td>9</td>\n",
       "      <td>New Super Mario Bros. Wii</td>\n",
       "      <td>Wii</td>\n",
       "      <td>2009.0</td>\n",
       "      <td>Platform</td>\n",
       "      <td>Nintendo</td>\n",
       "      <td>7.680336</td>\n",
       "      <td>6.954445</td>\n",
       "      <td>6.547563</td>\n",
       "      <td>5.815365</td>\n",
       "      <td>26.997709</td>\n",
       "    </tr>\n",
       "    <tr>\n",
       "      <th>...</th>\n",
       "      <td>...</td>\n",
       "      <td>...</td>\n",
       "      <td>...</td>\n",
       "      <td>...</td>\n",
       "      <td>...</td>\n",
       "      <td>...</td>\n",
       "      <td>...</td>\n",
       "      <td>...</td>\n",
       "      <td>...</td>\n",
       "      <td>...</td>\n",
       "      <td>...</td>\n",
       "    </tr>\n",
       "    <tr>\n",
       "      <th>12941</th>\n",
       "      <td>236</td>\n",
       "      <td>Splatoon</td>\n",
       "      <td>WiiU</td>\n",
       "      <td>2015.0</td>\n",
       "      <td>Shooter</td>\n",
       "      <td>Nintendo</td>\n",
       "      <td>5.438255</td>\n",
       "      <td>5.139762</td>\n",
       "      <td>5.364643</td>\n",
       "      <td>4.156030</td>\n",
       "      <td>20.098690</td>\n",
       "    </tr>\n",
       "    <tr>\n",
       "      <th>8230</th>\n",
       "      <td>146</td>\n",
       "      <td>Metal Gear Solid</td>\n",
       "      <td>PS</td>\n",
       "      <td>1998.0</td>\n",
       "      <td>Action</td>\n",
       "      <td>Konami Digital Entertainment</td>\n",
       "      <td>6.156881</td>\n",
       "      <td>5.604316</td>\n",
       "      <td>4.751539</td>\n",
       "      <td>3.572884</td>\n",
       "      <td>20.085619</td>\n",
       "    </tr>\n",
       "    <tr>\n",
       "      <th>7876</th>\n",
       "      <td>190</td>\n",
       "      <td>Mario &amp; Sonic at the Olympic Games</td>\n",
       "      <td>DS</td>\n",
       "      <td>2008.0</td>\n",
       "      <td>Sports</td>\n",
       "      <td>Sega</td>\n",
       "      <td>5.494696</td>\n",
       "      <td>5.908259</td>\n",
       "      <td>4.179019</td>\n",
       "      <td>4.455273</td>\n",
       "      <td>20.037247</td>\n",
       "    </tr>\n",
       "    <tr>\n",
       "      <th>15021</th>\n",
       "      <td>189</td>\n",
       "      <td>Tomodachi Life</td>\n",
       "      <td>3DS</td>\n",
       "      <td>2013.0</td>\n",
       "      <td>Simulation</td>\n",
       "      <td>Nintendo</td>\n",
       "      <td>4.959178</td>\n",
       "      <td>5.703098</td>\n",
       "      <td>5.636577</td>\n",
       "      <td>3.727034</td>\n",
       "      <td>20.025887</td>\n",
       "    </tr>\n",
       "    <tr>\n",
       "      <th>462</th>\n",
       "      <td>227</td>\n",
       "      <td>Animal Crossing: City Folk</td>\n",
       "      <td>Wii</td>\n",
       "      <td>2008.0</td>\n",
       "      <td>Simulation</td>\n",
       "      <td>Nintendo</td>\n",
       "      <td>5.625938</td>\n",
       "      <td>5.113329</td>\n",
       "      <td>5.277632</td>\n",
       "      <td>4.005748</td>\n",
       "      <td>20.022647</td>\n",
       "    </tr>\n",
       "  </tbody>\n",
       "</table>\n",
       "<p>126 rows × 11 columns</p>\n",
       "</div>"
      ],
      "text/plain": [
       "       Rank                                Name Platform    Year       Genre  \\\n",
       "15934     1                          Wii Sports      Wii  2006.0      Sports   \n",
       "7895      3                      Mario Kart Wii      Wii  2008.0      Racing   \n",
       "9609      7               New Super Mario Bros.       DS  2006.0    Platform   \n",
       "15936     4                   Wii Sports Resort      Wii  2009.0      Sports   \n",
       "9612      9           New Super Mario Bros. Wii      Wii  2009.0    Platform   \n",
       "...     ...                                 ...      ...     ...         ...   \n",
       "12941   236                            Splatoon     WiiU  2015.0     Shooter   \n",
       "8230    146                    Metal Gear Solid       PS  1998.0      Action   \n",
       "7876    190  Mario & Sonic at the Olympic Games       DS  2008.0      Sports   \n",
       "15021   189                      Tomodachi Life      3DS  2013.0  Simulation   \n",
       "462     227          Animal Crossing: City Folk      Wii  2008.0  Simulation   \n",
       "\n",
       "                          Publisher  NA_Sales  EU_Sales  JP_Sales  \\\n",
       "15934                      Nintendo  8.725452  8.367985  6.327075   \n",
       "7895                       Nintendo  7.763170  7.555676  6.332366   \n",
       "9609                       Nintendo  7.431857  7.222459  6.871802   \n",
       "15936                      Nintendo  7.756840  7.398804  6.187843   \n",
       "9612                       Nintendo  7.680336  6.954445  6.547563   \n",
       "...                             ...       ...       ...       ...   \n",
       "12941                      Nintendo  5.438255  5.139762  5.364643   \n",
       "8230   Konami Digital Entertainment  6.156881  5.604316  4.751539   \n",
       "7876                           Sega  5.494696  5.908259  4.179019   \n",
       "15021                      Nintendo  4.959178  5.703098  5.636577   \n",
       "462                        Nintendo  5.625938  5.113329  5.277632   \n",
       "\n",
       "       Other_Sales  Global_Sales  \n",
       "15934     7.135349     30.555862  \n",
       "7895      6.196948     27.848159  \n",
       "9609      6.064711     27.590829  \n",
       "15936     6.085189     27.428677  \n",
       "9612      5.815365     26.997709  \n",
       "...            ...           ...  \n",
       "12941     4.156030     20.098690  \n",
       "8230      3.572884     20.085619  \n",
       "7876      4.455273     20.037247  \n",
       "15021     3.727034     20.025887  \n",
       "462       4.005748     20.022647  \n",
       "\n",
       "[126 rows x 11 columns]"
      ]
     },
     "execution_count": 19,
     "metadata": {},
     "output_type": "execute_result"
    }
   ],
   "source": [
    "# games that are outliers\n",
    "\n",
    "outlier_games = data.loc[data['Global_Sales']>20.0].sort_values(['Global_Sales'],ascending=False)\n",
    "outlier_games"
   ]
  },
  {
   "cell_type": "code",
   "execution_count": 29,
   "id": "e9fd2b04",
   "metadata": {},
   "outputs": [
    {
     "data": {
      "text/plain": [
       "Nintendo                       66\n",
       "Sony Computer Entertainment    13\n",
       "Activision                     13\n",
       "Take-Two Interactive           10\n",
       "Electronic Arts                 4\n",
       "Name: Publisher, dtype: int64"
      ]
     },
     "execution_count": 29,
     "metadata": {},
     "output_type": "execute_result"
    }
   ],
   "source": [
    "top_publisher =  outlier_games['Publisher'].value_counts()[:5]\n",
    "top_publisher"
   ]
  },
  {
   "cell_type": "code",
   "execution_count": 32,
   "id": "86af41d8",
   "metadata": {},
   "outputs": [
    {
     "data": {
      "text/plain": [
       "Text(0.5, 1.0, 'Total Count')"
      ]
     },
     "execution_count": 32,
     "metadata": {},
     "output_type": "execute_result"
    },
    {
     "data": {
      "image/png": "[encoded data removed]",
      "text/plain": [
       "<Figure size 432x288 with 1 Axes>"
      ]
     },
     "metadata": {
      "needs_background": "light"
     },
     "output_type": "display_data"
    }
   ],
   "source": [
    "sns.barplot(data=top_publisher, x=top_publisher.index, y=top_publisher.values)\n",
    "plt.title('Total Count')"
   ]
  },
  {
   "cell_type": "code",
   "execution_count": 31,
   "id": "58e4d97d",
   "metadata": {},
   "outputs": [
    {
     "data": {
      "text/plain": [
       "Index(['Nintendo', 'Sony Computer Entertainment', 'Activision',\n",
       "       'Take-Two Interactive', 'Electronic Arts'],\n",
       "      dtype='object')"
      ]
     },
     "execution_count": 31,
     "metadata": {},
     "output_type": "execute_result"
    }
   ],
   "source": [
    "top_publisher.index"
   ]
  },
  {
   "cell_type": "code",
   "execution_count": null,
   "id": "fc24591b",
   "metadata": {},
   "outputs": [],
   "source": []
  },
  {
   "cell_type": "code",
   "execution_count": null,
   "id": "e608b27f",
   "metadata": {},
   "outputs": [],
   "source": []
  },
  {
   "cell_type": "markdown",
   "id": "3e78a83d",
   "metadata": {},
   "source": [
    "### BIVARIATE ANALYSIS"
   ]
  },
  {
   "cell_type": "code",
   "execution_count": null,
   "id": "8d76be4c",
   "metadata": {},
   "outputs": [],
   "source": [
    "# numerical-numerical : lineplot and scatterplot\n",
    "# numerical-categorical : multiple boxplot\n",
    "# categorical-categorical : stacked countplot and doged countplot "
   ]
  },
  {
   "cell_type": "code",
   "execution_count": null,
   "id": "4bd90f36",
   "metadata": {},
   "outputs": [],
   "source": []
  },
  {
   "cell_type": "markdown",
   "id": "139644a1",
   "metadata": {},
   "source": [
    "#### 1. NUMERICAL - NUMERICAL"
   ]
  },
  {
   "cell_type": "code",
   "execution_count": null,
   "id": "6179dc7a",
   "metadata": {},
   "outputs": [],
   "source": []
  },
  {
   "cell_type": "code",
   "execution_count": 35,
   "id": "528b988c",
   "metadata": {},
   "outputs": [
    {
     "data": {
      "text/plain": [
       "Ice Hockey                                       41\n",
       "Baseball                                         17\n",
       "Need for Speed: Most Wanted                      12\n",
       "Ratatouille                                       9\n",
       "FIFA 14                                           9\n",
       "                                                 ..\n",
       "Indy 500                                          1\n",
       "Indy Racing 2000                                  1\n",
       "Indycar Series 2005                               1\n",
       "inFAMOUS                                          1\n",
       "Zyuden Sentai Kyoryuger: Game de Gaburincho!!     1\n",
       "Name: Name, Length: 11493, dtype: int64"
      ]
     },
     "execution_count": 35,
     "metadata": {},
     "output_type": "execute_result"
    }
   ],
   "source": [
    "data['Name'].value_counts()"
   ]
  },
  {
   "cell_type": "code",
   "execution_count": null,
   "id": "d10b513f",
   "metadata": {},
   "outputs": [],
   "source": []
  },
  {
   "cell_type": "code",
   "execution_count": 37,
   "id": "e43d41e8",
   "metadata": {
    "scrolled": true
   },
   "outputs": [
    {
     "data": {
      "text/html": [
       "<div>\n",
       "<style scoped>\n",
       "    .dataframe tbody tr th:only-of-type {\n",
       "        vertical-align: middle;\n",
       "    }\n",
       "\n",
       "    .dataframe tbody tr th {\n",
       "        vertical-align: top;\n",
       "    }\n",
       "\n",
       "    .dataframe thead th {\n",
       "        text-align: right;\n",
       "    }\n",
       "</style>\n",
       "<table border=\"1\" class=\"dataframe\">\n",
       "  <thead>\n",
       "    <tr style=\"text-align: right;\">\n",
       "      <th></th>\n",
       "      <th>Rank</th>\n",
       "      <th>Name</th>\n",
       "      <th>Platform</th>\n",
       "      <th>Year</th>\n",
       "      <th>Genre</th>\n",
       "      <th>Publisher</th>\n",
       "      <th>NA_Sales</th>\n",
       "      <th>EU_Sales</th>\n",
       "      <th>JP_Sales</th>\n",
       "      <th>Other_Sales</th>\n",
       "      <th>Global_Sales</th>\n",
       "    </tr>\n",
       "  </thead>\n",
       "  <tbody>\n",
       "    <tr>\n",
       "      <th>6073</th>\n",
       "      <td>639</td>\n",
       "      <td>Ice Hockey</td>\n",
       "      <td>NES</td>\n",
       "      <td>1988.0</td>\n",
       "      <td>Sports</td>\n",
       "      <td>Nintendo</td>\n",
       "      <td>0.44</td>\n",
       "      <td>3.860566</td>\n",
       "      <td>4.751539</td>\n",
       "      <td>2.004268</td>\n",
       "      <td>15.855389</td>\n",
       "    </tr>\n",
       "    <tr>\n",
       "      <th>6074</th>\n",
       "      <td>4027</td>\n",
       "      <td>Ice Hockey</td>\n",
       "      <td>2600</td>\n",
       "      <td>1980.0</td>\n",
       "      <td>Sports</td>\n",
       "      <td>Activision</td>\n",
       "      <td>0.39</td>\n",
       "      <td>1.493442</td>\n",
       "      <td>2.741701</td>\n",
       "      <td>0.394830</td>\n",
       "      <td>4.956249</td>\n",
       "    </tr>\n",
       "    <tr>\n",
       "      <th>6075</th>\n",
       "      <td>4149</td>\n",
       "      <td>Ice Hockey</td>\n",
       "      <td>2600</td>\n",
       "      <td>1991.0</td>\n",
       "      <td>Sports</td>\n",
       "      <td>Activision</td>\n",
       "      <td>0.61</td>\n",
       "      <td>0.020000</td>\n",
       "      <td>0.000000</td>\n",
       "      <td>0.010000</td>\n",
       "      <td>0.470000</td>\n",
       "    </tr>\n",
       "    <tr>\n",
       "      <th>6076</th>\n",
       "      <td>4149</td>\n",
       "      <td>Ice Hockey</td>\n",
       "      <td>2600</td>\n",
       "      <td>1992.0</td>\n",
       "      <td>Sports</td>\n",
       "      <td>Activision</td>\n",
       "      <td>0.65</td>\n",
       "      <td>0.020000</td>\n",
       "      <td>0.000000</td>\n",
       "      <td>0.010000</td>\n",
       "      <td>0.470000</td>\n",
       "    </tr>\n",
       "    <tr>\n",
       "      <th>6077</th>\n",
       "      <td>4149</td>\n",
       "      <td>Ice Hockey</td>\n",
       "      <td>SNES</td>\n",
       "      <td>1993.0</td>\n",
       "      <td>Sports</td>\n",
       "      <td>Activision</td>\n",
       "      <td>0.68</td>\n",
       "      <td>0.020000</td>\n",
       "      <td>0.000000</td>\n",
       "      <td>0.010000</td>\n",
       "      <td>0.470000</td>\n",
       "    </tr>\n",
       "    <tr>\n",
       "      <th>6078</th>\n",
       "      <td>4149</td>\n",
       "      <td>Ice Hockey</td>\n",
       "      <td>SNES</td>\n",
       "      <td>1994.0</td>\n",
       "      <td>Sports</td>\n",
       "      <td>Activision</td>\n",
       "      <td>0.75</td>\n",
       "      <td>0.020000</td>\n",
       "      <td>0.000000</td>\n",
       "      <td>0.010000</td>\n",
       "      <td>0.470000</td>\n",
       "    </tr>\n",
       "    <tr>\n",
       "      <th>6079</th>\n",
       "      <td>4149</td>\n",
       "      <td>Ice Hockey</td>\n",
       "      <td>SNES</td>\n",
       "      <td>1995.0</td>\n",
       "      <td>Sports</td>\n",
       "      <td>Activision</td>\n",
       "      <td>0.78</td>\n",
       "      <td>0.020000</td>\n",
       "      <td>0.000000</td>\n",
       "      <td>0.010000</td>\n",
       "      <td>0.470000</td>\n",
       "    </tr>\n",
       "    <tr>\n",
       "      <th>6080</th>\n",
       "      <td>4149</td>\n",
       "      <td>Ice Hockey</td>\n",
       "      <td>SNES</td>\n",
       "      <td>1996.0</td>\n",
       "      <td>Sports</td>\n",
       "      <td>Activision</td>\n",
       "      <td>0.76</td>\n",
       "      <td>0.020000</td>\n",
       "      <td>0.000000</td>\n",
       "      <td>0.010000</td>\n",
       "      <td>0.470000</td>\n",
       "    </tr>\n",
       "    <tr>\n",
       "      <th>6081</th>\n",
       "      <td>4149</td>\n",
       "      <td>Ice Hockey</td>\n",
       "      <td>SNES</td>\n",
       "      <td>1997.0</td>\n",
       "      <td>Sports</td>\n",
       "      <td>Activision</td>\n",
       "      <td>0.82</td>\n",
       "      <td>0.020000</td>\n",
       "      <td>0.000000</td>\n",
       "      <td>0.010000</td>\n",
       "      <td>0.470000</td>\n",
       "    </tr>\n",
       "    <tr>\n",
       "      <th>6082</th>\n",
       "      <td>4149</td>\n",
       "      <td>Ice Hockey</td>\n",
       "      <td>SNES</td>\n",
       "      <td>1998.0</td>\n",
       "      <td>Sports</td>\n",
       "      <td>Activision</td>\n",
       "      <td>0.88</td>\n",
       "      <td>0.020000</td>\n",
       "      <td>0.000000</td>\n",
       "      <td>0.010000</td>\n",
       "      <td>0.470000</td>\n",
       "    </tr>\n",
       "    <tr>\n",
       "      <th>6083</th>\n",
       "      <td>4149</td>\n",
       "      <td>Ice Hockey</td>\n",
       "      <td>SNES</td>\n",
       "      <td>1999.0</td>\n",
       "      <td>Sports</td>\n",
       "      <td>Activision</td>\n",
       "      <td>0.85</td>\n",
       "      <td>0.020000</td>\n",
       "      <td>0.000000</td>\n",
       "      <td>0.010000</td>\n",
       "      <td>0.470000</td>\n",
       "    </tr>\n",
       "    <tr>\n",
       "      <th>6084</th>\n",
       "      <td>4148</td>\n",
       "      <td>Ice Hockey</td>\n",
       "      <td>SNES</td>\n",
       "      <td>2000.0</td>\n",
       "      <td>Sports</td>\n",
       "      <td>Activision</td>\n",
       "      <td>0.84</td>\n",
       "      <td>0.020000</td>\n",
       "      <td>0.000000</td>\n",
       "      <td>0.010000</td>\n",
       "      <td>0.470000</td>\n",
       "    </tr>\n",
       "    <tr>\n",
       "      <th>6085</th>\n",
       "      <td>3000</td>\n",
       "      <td>Ice Hockey</td>\n",
       "      <td>SNES</td>\n",
       "      <td>2001.0</td>\n",
       "      <td>Sports</td>\n",
       "      <td>Activision</td>\n",
       "      <td>0.87</td>\n",
       "      <td>0.020000</td>\n",
       "      <td>0.000000</td>\n",
       "      <td>0.010000</td>\n",
       "      <td>0.470000</td>\n",
       "    </tr>\n",
       "    <tr>\n",
       "      <th>6086</th>\n",
       "      <td>3012</td>\n",
       "      <td>Ice Hockey</td>\n",
       "      <td>SNES</td>\n",
       "      <td>2002.0</td>\n",
       "      <td>Sports</td>\n",
       "      <td>Activision</td>\n",
       "      <td>0.90</td>\n",
       "      <td>0.020000</td>\n",
       "      <td>0.000000</td>\n",
       "      <td>0.010000</td>\n",
       "      <td>0.470000</td>\n",
       "    </tr>\n",
       "    <tr>\n",
       "      <th>6087</th>\n",
       "      <td>3013</td>\n",
       "      <td>Ice Hockey</td>\n",
       "      <td>SNES</td>\n",
       "      <td>2003.0</td>\n",
       "      <td>Sports</td>\n",
       "      <td>Activision</td>\n",
       "      <td>0.70</td>\n",
       "      <td>0.020000</td>\n",
       "      <td>0.000000</td>\n",
       "      <td>0.010000</td>\n",
       "      <td>0.470000</td>\n",
       "    </tr>\n",
       "    <tr>\n",
       "      <th>6088</th>\n",
       "      <td>3013</td>\n",
       "      <td>Ice Hockey</td>\n",
       "      <td>SNES</td>\n",
       "      <td>2004.0</td>\n",
       "      <td>Sports</td>\n",
       "      <td>Activision</td>\n",
       "      <td>0.60</td>\n",
       "      <td>0.020000</td>\n",
       "      <td>0.000000</td>\n",
       "      <td>0.010000</td>\n",
       "      <td>0.470000</td>\n",
       "    </tr>\n",
       "    <tr>\n",
       "      <th>6089</th>\n",
       "      <td>3011</td>\n",
       "      <td>Ice Hockey</td>\n",
       "      <td>PC</td>\n",
       "      <td>2005.0</td>\n",
       "      <td>Sports</td>\n",
       "      <td>Activision</td>\n",
       "      <td>0.63</td>\n",
       "      <td>0.020000</td>\n",
       "      <td>0.000000</td>\n",
       "      <td>0.010000</td>\n",
       "      <td>0.470000</td>\n",
       "    </tr>\n",
       "    <tr>\n",
       "      <th>6090</th>\n",
       "      <td>1234</td>\n",
       "      <td>Ice Hockey</td>\n",
       "      <td>PC</td>\n",
       "      <td>2006.0</td>\n",
       "      <td>Sports</td>\n",
       "      <td>Activision</td>\n",
       "      <td>0.57</td>\n",
       "      <td>0.020000</td>\n",
       "      <td>0.000000</td>\n",
       "      <td>0.010000</td>\n",
       "      <td>0.470000</td>\n",
       "    </tr>\n",
       "    <tr>\n",
       "      <th>6091</th>\n",
       "      <td>3012</td>\n",
       "      <td>Ice Hockey</td>\n",
       "      <td>PC</td>\n",
       "      <td>2007.0</td>\n",
       "      <td>Sports</td>\n",
       "      <td>Activision</td>\n",
       "      <td>0.58</td>\n",
       "      <td>0.020000</td>\n",
       "      <td>0.000000</td>\n",
       "      <td>0.010000</td>\n",
       "      <td>0.470000</td>\n",
       "    </tr>\n",
       "    <tr>\n",
       "      <th>6092</th>\n",
       "      <td>1231</td>\n",
       "      <td>Ice Hockey</td>\n",
       "      <td>PC</td>\n",
       "      <td>2008.0</td>\n",
       "      <td>Sports</td>\n",
       "      <td>Activision</td>\n",
       "      <td>0.49</td>\n",
       "      <td>0.020000</td>\n",
       "      <td>0.000000</td>\n",
       "      <td>0.010000</td>\n",
       "      <td>0.470000</td>\n",
       "    </tr>\n",
       "    <tr>\n",
       "      <th>6093</th>\n",
       "      <td>3012</td>\n",
       "      <td>Ice Hockey</td>\n",
       "      <td>PC</td>\n",
       "      <td>2009.0</td>\n",
       "      <td>Sports</td>\n",
       "      <td>Activision</td>\n",
       "      <td>0.40</td>\n",
       "      <td>0.020000</td>\n",
       "      <td>0.000000</td>\n",
       "      <td>0.010000</td>\n",
       "      <td>0.470000</td>\n",
       "    </tr>\n",
       "    <tr>\n",
       "      <th>6094</th>\n",
       "      <td>3012</td>\n",
       "      <td>Ice Hockey</td>\n",
       "      <td>PC</td>\n",
       "      <td>2010.0</td>\n",
       "      <td>Sports</td>\n",
       "      <td>Activision</td>\n",
       "      <td>0.43</td>\n",
       "      <td>0.020000</td>\n",
       "      <td>0.000000</td>\n",
       "      <td>0.010000</td>\n",
       "      <td>0.470000</td>\n",
       "    </tr>\n",
       "    <tr>\n",
       "      <th>6095</th>\n",
       "      <td>3012</td>\n",
       "      <td>Ice Hockey</td>\n",
       "      <td>PC</td>\n",
       "      <td>2011.0</td>\n",
       "      <td>Sports</td>\n",
       "      <td>Activision</td>\n",
       "      <td>0.42</td>\n",
       "      <td>0.020000</td>\n",
       "      <td>0.000000</td>\n",
       "      <td>0.010000</td>\n",
       "      <td>0.470000</td>\n",
       "    </tr>\n",
       "    <tr>\n",
       "      <th>6096</th>\n",
       "      <td>3012</td>\n",
       "      <td>Ice Hockey</td>\n",
       "      <td>PC</td>\n",
       "      <td>2012.0</td>\n",
       "      <td>Sports</td>\n",
       "      <td>Activision</td>\n",
       "      <td>0.40</td>\n",
       "      <td>0.020000</td>\n",
       "      <td>0.000000</td>\n",
       "      <td>0.010000</td>\n",
       "      <td>0.470000</td>\n",
       "    </tr>\n",
       "    <tr>\n",
       "      <th>6097</th>\n",
       "      <td>3012</td>\n",
       "      <td>Ice Hockey</td>\n",
       "      <td>PC</td>\n",
       "      <td>2013.0</td>\n",
       "      <td>Sports</td>\n",
       "      <td>Activision</td>\n",
       "      <td>0.41</td>\n",
       "      <td>0.020000</td>\n",
       "      <td>0.000000</td>\n",
       "      <td>0.010000</td>\n",
       "      <td>0.470000</td>\n",
       "    </tr>\n",
       "    <tr>\n",
       "      <th>6098</th>\n",
       "      <td>3012</td>\n",
       "      <td>Ice Hockey</td>\n",
       "      <td>PS</td>\n",
       "      <td>2014.0</td>\n",
       "      <td>Sports</td>\n",
       "      <td>Activision</td>\n",
       "      <td>0.45</td>\n",
       "      <td>0.020000</td>\n",
       "      <td>0.000000</td>\n",
       "      <td>0.010000</td>\n",
       "      <td>0.470000</td>\n",
       "    </tr>\n",
       "    <tr>\n",
       "      <th>6099</th>\n",
       "      <td>3012</td>\n",
       "      <td>Ice Hockey</td>\n",
       "      <td>PS</td>\n",
       "      <td>2015.0</td>\n",
       "      <td>Sports</td>\n",
       "      <td>Activision</td>\n",
       "      <td>0.35</td>\n",
       "      <td>0.020000</td>\n",
       "      <td>0.000000</td>\n",
       "      <td>0.010000</td>\n",
       "      <td>0.470000</td>\n",
       "    </tr>\n",
       "    <tr>\n",
       "      <th>6100</th>\n",
       "      <td>3012</td>\n",
       "      <td>Ice Hockey</td>\n",
       "      <td>PS</td>\n",
       "      <td>2016.0</td>\n",
       "      <td>Sports</td>\n",
       "      <td>Activision</td>\n",
       "      <td>0.38</td>\n",
       "      <td>0.020000</td>\n",
       "      <td>0.000000</td>\n",
       "      <td>0.010000</td>\n",
       "      <td>0.470000</td>\n",
       "    </tr>\n",
       "    <tr>\n",
       "      <th>6101</th>\n",
       "      <td>3012</td>\n",
       "      <td>Ice Hockey</td>\n",
       "      <td>PS</td>\n",
       "      <td>2017.0</td>\n",
       "      <td>Sports</td>\n",
       "      <td>Activision</td>\n",
       "      <td>0.30</td>\n",
       "      <td>0.020000</td>\n",
       "      <td>0.000000</td>\n",
       "      <td>0.010000</td>\n",
       "      <td>0.470000</td>\n",
       "    </tr>\n",
       "    <tr>\n",
       "      <th>6102</th>\n",
       "      <td>3012</td>\n",
       "      <td>Ice Hockey</td>\n",
       "      <td>PS</td>\n",
       "      <td>2018.0</td>\n",
       "      <td>Sports</td>\n",
       "      <td>Activision</td>\n",
       "      <td>0.20</td>\n",
       "      <td>0.020000</td>\n",
       "      <td>0.000000</td>\n",
       "      <td>0.010000</td>\n",
       "      <td>0.470000</td>\n",
       "    </tr>\n",
       "    <tr>\n",
       "      <th>6103</th>\n",
       "      <td>3012</td>\n",
       "      <td>Ice Hockey</td>\n",
       "      <td>PS</td>\n",
       "      <td>2019.0</td>\n",
       "      <td>Sports</td>\n",
       "      <td>Activision</td>\n",
       "      <td>0.19</td>\n",
       "      <td>0.020000</td>\n",
       "      <td>0.000000</td>\n",
       "      <td>0.010000</td>\n",
       "      <td>0.470000</td>\n",
       "    </tr>\n",
       "    <tr>\n",
       "      <th>6104</th>\n",
       "      <td>3012</td>\n",
       "      <td>Ice Hockey</td>\n",
       "      <td>PS</td>\n",
       "      <td>2020.0</td>\n",
       "      <td>Sports</td>\n",
       "      <td>Activision</td>\n",
       "      <td>0.14</td>\n",
       "      <td>0.020000</td>\n",
       "      <td>0.000000</td>\n",
       "      <td>0.010000</td>\n",
       "      <td>0.470000</td>\n",
       "    </tr>\n",
       "    <tr>\n",
       "      <th>6105</th>\n",
       "      <td>4100</td>\n",
       "      <td>Ice Hockey</td>\n",
       "      <td>2600</td>\n",
       "      <td>1990.0</td>\n",
       "      <td>Sports</td>\n",
       "      <td>Activision</td>\n",
       "      <td>0.60</td>\n",
       "      <td>0.020000</td>\n",
       "      <td>0.000000</td>\n",
       "      <td>0.010000</td>\n",
       "      <td>0.470000</td>\n",
       "    </tr>\n",
       "    <tr>\n",
       "      <th>6106</th>\n",
       "      <td>4519</td>\n",
       "      <td>Ice Hockey</td>\n",
       "      <td>2600</td>\n",
       "      <td>1981.0</td>\n",
       "      <td>Sports</td>\n",
       "      <td>Activision</td>\n",
       "      <td>0.40</td>\n",
       "      <td>0.020000</td>\n",
       "      <td>0.000000</td>\n",
       "      <td>0.000000</td>\n",
       "      <td>0.430000</td>\n",
       "    </tr>\n",
       "    <tr>\n",
       "      <th>6107</th>\n",
       "      <td>3645</td>\n",
       "      <td>Ice Hockey</td>\n",
       "      <td>2600</td>\n",
       "      <td>1982.0</td>\n",
       "      <td>Sports</td>\n",
       "      <td>Activision</td>\n",
       "      <td>0.52</td>\n",
       "      <td>0.030000</td>\n",
       "      <td>0.000000</td>\n",
       "      <td>0.010000</td>\n",
       "      <td>0.550000</td>\n",
       "    </tr>\n",
       "    <tr>\n",
       "      <th>6108</th>\n",
       "      <td>5384</td>\n",
       "      <td>Ice Hockey</td>\n",
       "      <td>2600</td>\n",
       "      <td>1983.0</td>\n",
       "      <td>Sports</td>\n",
       "      <td>Activision</td>\n",
       "      <td>0.58</td>\n",
       "      <td>0.020000</td>\n",
       "      <td>0.000000</td>\n",
       "      <td>0.000000</td>\n",
       "      <td>0.340000</td>\n",
       "    </tr>\n",
       "    <tr>\n",
       "      <th>6109</th>\n",
       "      <td>6299</td>\n",
       "      <td>Ice Hockey</td>\n",
       "      <td>2600</td>\n",
       "      <td>1984.0</td>\n",
       "      <td>Sports</td>\n",
       "      <td>Activision</td>\n",
       "      <td>0.60</td>\n",
       "      <td>0.010000</td>\n",
       "      <td>0.000000</td>\n",
       "      <td>0.000000</td>\n",
       "      <td>0.270000</td>\n",
       "    </tr>\n",
       "    <tr>\n",
       "      <th>6110</th>\n",
       "      <td>5084</td>\n",
       "      <td>Ice Hockey</td>\n",
       "      <td>2600</td>\n",
       "      <td>1986.0</td>\n",
       "      <td>Sports</td>\n",
       "      <td>Activision</td>\n",
       "      <td>0.48</td>\n",
       "      <td>0.020000</td>\n",
       "      <td>0.000000</td>\n",
       "      <td>0.000000</td>\n",
       "      <td>0.370000</td>\n",
       "    </tr>\n",
       "    <tr>\n",
       "      <th>6111</th>\n",
       "      <td>6941</td>\n",
       "      <td>Ice Hockey</td>\n",
       "      <td>2600</td>\n",
       "      <td>1987.0</td>\n",
       "      <td>Sports</td>\n",
       "      <td>Activision</td>\n",
       "      <td>0.45</td>\n",
       "      <td>0.010000</td>\n",
       "      <td>0.000000</td>\n",
       "      <td>0.000000</td>\n",
       "      <td>0.240000</td>\n",
       "    </tr>\n",
       "    <tr>\n",
       "      <th>6112</th>\n",
       "      <td>4149</td>\n",
       "      <td>Ice Hockey</td>\n",
       "      <td>2600</td>\n",
       "      <td>1989.0</td>\n",
       "      <td>Sports</td>\n",
       "      <td>Activision</td>\n",
       "      <td>0.45</td>\n",
       "      <td>0.020000</td>\n",
       "      <td>0.000000</td>\n",
       "      <td>0.010000</td>\n",
       "      <td>0.470000</td>\n",
       "    </tr>\n",
       "    <tr>\n",
       "      <th>6113</th>\n",
       "      <td>4140</td>\n",
       "      <td>Ice Hockey</td>\n",
       "      <td>2600</td>\n",
       "      <td>1985.0</td>\n",
       "      <td>Sports</td>\n",
       "      <td>Activision</td>\n",
       "      <td>0.53</td>\n",
       "      <td>0.020000</td>\n",
       "      <td>0.000000</td>\n",
       "      <td>0.010000</td>\n",
       "      <td>0.470000</td>\n",
       "    </tr>\n",
       "  </tbody>\n",
       "</table>\n",
       "</div>"
      ],
      "text/plain": [
       "      Rank        Name Platform    Year   Genre   Publisher  NA_Sales  \\\n",
       "6073   639  Ice Hockey      NES  1988.0  Sports    Nintendo      0.44   \n",
       "6074  4027  Ice Hockey     2600  1980.0  Sports  Activision      0.39   \n",
       "6075  4149  Ice Hockey     2600  1991.0  Sports  Activision      0.61   \n",
       "6076  4149  Ice Hockey     2600  1992.0  Sports  Activision      0.65   \n",
       "6077  4149  Ice Hockey     SNES  1993.0  Sports  Activision      0.68   \n",
       "6078  4149  Ice Hockey     SNES  1994.0  Sports  Activision      0.75   \n",
       "6079  4149  Ice Hockey     SNES  1995.0  Sports  Activision      0.78   \n",
       "6080  4149  Ice Hockey     SNES  1996.0  Sports  Activision      0.76   \n",
       "6081  4149  Ice Hockey     SNES  1997.0  Sports  Activision      0.82   \n",
       "6082  4149  Ice Hockey     SNES  1998.0  Sports  Activision      0.88   \n",
       "6083  4149  Ice Hockey     SNES  1999.0  Sports  Activision      0.85   \n",
       "6084  4148  Ice Hockey     SNES  2000.0  Sports  Activision      0.84   \n",
       "6085  3000  Ice Hockey     SNES  2001.0  Sports  Activision      0.87   \n",
       "6086  3012  Ice Hockey     SNES  2002.0  Sports  Activision      0.90   \n",
       "6087  3013  Ice Hockey     SNES  2003.0  Sports  Activision      0.70   \n",
       "6088  3013  Ice Hockey     SNES  2004.0  Sports  Activision      0.60   \n",
       "6089  3011  Ice Hockey       PC  2005.0  Sports  Activision      0.63   \n",
       "6090  1234  Ice Hockey       PC  2006.0  Sports  Activision      0.57   \n",
       "6091  3012  Ice Hockey       PC  2007.0  Sports  Activision      0.58   \n",
       "6092  1231  Ice Hockey       PC  2008.0  Sports  Activision      0.49   \n",
       "6093  3012  Ice Hockey       PC  2009.0  Sports  Activision      0.40   \n",
       "6094  3012  Ice Hockey       PC  2010.0  Sports  Activision      0.43   \n",
       "6095  3012  Ice Hockey       PC  2011.0  Sports  Activision      0.42   \n",
       "6096  3012  Ice Hockey       PC  2012.0  Sports  Activision      0.40   \n",
       "6097  3012  Ice Hockey       PC  2013.0  Sports  Activision      0.41   \n",
       "6098  3012  Ice Hockey       PS  2014.0  Sports  Activision      0.45   \n",
       "6099  3012  Ice Hockey       PS  2015.0  Sports  Activision      0.35   \n",
       "6100  3012  Ice Hockey       PS  2016.0  Sports  Activision      0.38   \n",
       "6101  3012  Ice Hockey       PS  2017.0  Sports  Activision      0.30   \n",
       "6102  3012  Ice Hockey       PS  2018.0  Sports  Activision      0.20   \n",
       "6103  3012  Ice Hockey       PS  2019.0  Sports  Activision      0.19   \n",
       "6104  3012  Ice Hockey       PS  2020.0  Sports  Activision      0.14   \n",
       "6105  4100  Ice Hockey     2600  1990.0  Sports  Activision      0.60   \n",
       "6106  4519  Ice Hockey     2600  1981.0  Sports  Activision      0.40   \n",
       "6107  3645  Ice Hockey     2600  1982.0  Sports  Activision      0.52   \n",
       "6108  5384  Ice Hockey     2600  1983.0  Sports  Activision      0.58   \n",
       "6109  6299  Ice Hockey     2600  1984.0  Sports  Activision      0.60   \n",
       "6110  5084  Ice Hockey     2600  1986.0  Sports  Activision      0.48   \n",
       "6111  6941  Ice Hockey     2600  1987.0  Sports  Activision      0.45   \n",
       "6112  4149  Ice Hockey     2600  1989.0  Sports  Activision      0.45   \n",
       "6113  4140  Ice Hockey     2600  1985.0  Sports  Activision      0.53   \n",
       "\n",
       "      EU_Sales  JP_Sales  Other_Sales  Global_Sales  \n",
       "6073  3.860566  4.751539     2.004268     15.855389  \n",
       "6074  1.493442  2.741701     0.394830      4.956249  \n",
       "6075  0.020000  0.000000     0.010000      0.470000  \n",
       "6076  0.020000  0.000000     0.010000      0.470000  \n",
       "6077  0.020000  0.000000     0.010000      0.470000  \n",
       "6078  0.020000  0.000000     0.010000      0.470000  \n",
       "6079  0.020000  0.000000     0.010000      0.470000  \n",
       "6080  0.020000  0.000000     0.010000      0.470000  \n",
       "6081  0.020000  0.000000     0.010000      0.470000  \n",
       "6082  0.020000  0.000000     0.010000      0.470000  \n",
       "6083  0.020000  0.000000     0.010000      0.470000  \n",
       "6084  0.020000  0.000000     0.010000      0.470000  \n",
       "6085  0.020000  0.000000     0.010000      0.470000  \n",
       "6086  0.020000  0.000000     0.010000      0.470000  \n",
       "6087  0.020000  0.000000     0.010000      0.470000  \n",
       "6088  0.020000  0.000000     0.010000      0.470000  \n",
       "6089  0.020000  0.000000     0.010000      0.470000  \n",
       "6090  0.020000  0.000000     0.010000      0.470000  \n",
       "6091  0.020000  0.000000     0.010000      0.470000  \n",
       "6092  0.020000  0.000000     0.010000      0.470000  \n",
       "6093  0.020000  0.000000     0.010000      0.470000  \n",
       "6094  0.020000  0.000000     0.010000      0.470000  \n",
       "6095  0.020000  0.000000     0.010000      0.470000  \n",
       "6096  0.020000  0.000000     0.010000      0.470000  \n",
       "6097  0.020000  0.000000     0.010000      0.470000  \n",
       "6098  0.020000  0.000000     0.010000      0.470000  \n",
       "6099  0.020000  0.000000     0.010000      0.470000  \n",
       "6100  0.020000  0.000000     0.010000      0.470000  \n",
       "6101  0.020000  0.000000     0.010000      0.470000  \n",
       "6102  0.020000  0.000000     0.010000      0.470000  \n",
       "6103  0.020000  0.000000     0.010000      0.470000  \n",
       "6104  0.020000  0.000000     0.010000      0.470000  \n",
       "6105  0.020000  0.000000     0.010000      0.470000  \n",
       "6106  0.020000  0.000000     0.000000      0.430000  \n",
       "6107  0.030000  0.000000     0.010000      0.550000  \n",
       "6108  0.020000  0.000000     0.000000      0.340000  \n",
       "6109  0.010000  0.000000     0.000000      0.270000  \n",
       "6110  0.020000  0.000000     0.000000      0.370000  \n",
       "6111  0.010000  0.000000     0.000000      0.240000  \n",
       "6112  0.020000  0.000000     0.010000      0.470000  \n",
       "6113  0.020000  0.000000     0.010000      0.470000  "
      ]
     },
     "execution_count": 37,
     "metadata": {},
     "output_type": "execute_result"
    }
   ],
   "source": [
    "ih = data.loc[data['Name']=='Ice Hockey']\n",
    "ih"
   ]
  },
  {
   "cell_type": "code",
   "execution_count": 39,
   "id": "c8269af4",
   "metadata": {},
   "outputs": [
    {
     "data": {
      "image/png": "[encoded data removed]",
      "text/plain": [
       "<Figure size 432x288 with 1 Axes>"
      ]
     },
     "metadata": {
      "needs_background": "light"
     },
     "output_type": "display_data"
    }
   ],
   "source": [
    "sns.lineplot(data=ih, x='Year', y='NA_Sales')\n",
    "plt.title('Ice hockey sales trend')\n",
    "plt.show()"
   ]
  },
  {
   "cell_type": "code",
   "execution_count": 44,
   "id": "61a70b0e",
   "metadata": {},
   "outputs": [
    {
     "data": {
      "image/png": "[encoded data removed]",
      "text/plain": [
       "<Figure size 432x288 with 1 Axes>"
      ]
     },
     "metadata": {
      "needs_background": "light"
     },
     "output_type": "display_data"
    }
   ],
   "source": [
    "# to zoom in for particular two values\n",
    "sns.lineplot(data=ih, x='Year', y='NA_Sales')\n",
    "plt.title('Ice hockey sales trend')\n",
    "plt.xlim(left=1990, right=2005)\n",
    "plt.ylim(bottom=0.6, top=1.0)\n",
    "plt.grid()\n",
    "plt.show()"
   ]
  },
  {
   "cell_type": "code",
   "execution_count": null,
   "id": "6413caa4",
   "metadata": {},
   "outputs": [],
   "source": []
  },
  {
   "cell_type": "code",
   "execution_count": 45,
   "id": "34990a3a",
   "metadata": {},
   "outputs": [
    {
     "data": {
      "text/html": [
       "<div>\n",
       "<style scoped>\n",
       "    .dataframe tbody tr th:only-of-type {\n",
       "        vertical-align: middle;\n",
       "    }\n",
       "\n",
       "    .dataframe tbody tr th {\n",
       "        vertical-align: top;\n",
       "    }\n",
       "\n",
       "    .dataframe thead th {\n",
       "        text-align: right;\n",
       "    }\n",
       "</style>\n",
       "<table border=\"1\" class=\"dataframe\">\n",
       "  <thead>\n",
       "    <tr style=\"text-align: right;\">\n",
       "      <th></th>\n",
       "      <th>Rank</th>\n",
       "      <th>Name</th>\n",
       "      <th>Platform</th>\n",
       "      <th>Year</th>\n",
       "      <th>Genre</th>\n",
       "      <th>Publisher</th>\n",
       "      <th>NA_Sales</th>\n",
       "      <th>EU_Sales</th>\n",
       "      <th>JP_Sales</th>\n",
       "      <th>Other_Sales</th>\n",
       "      <th>Global_Sales</th>\n",
       "    </tr>\n",
       "  </thead>\n",
       "  <tbody>\n",
       "    <tr>\n",
       "      <th>941</th>\n",
       "      <td>324</td>\n",
       "      <td>Baseball</td>\n",
       "      <td>NES</td>\n",
       "      <td>1980.0</td>\n",
       "      <td>Sports</td>\n",
       "      <td>Nintendo</td>\n",
       "      <td>0.459000</td>\n",
       "      <td>2.320000</td>\n",
       "      <td>5.230000</td>\n",
       "      <td>1.230000</td>\n",
       "      <td>9.239000</td>\n",
       "    </tr>\n",
       "    <tr>\n",
       "      <th>942</th>\n",
       "      <td>422</td>\n",
       "      <td>Baseball</td>\n",
       "      <td>NES</td>\n",
       "      <td>1983.0</td>\n",
       "      <td>Sports</td>\n",
       "      <td>Nintendo</td>\n",
       "      <td>0.468529</td>\n",
       "      <td>2.697415</td>\n",
       "      <td>5.854415</td>\n",
       "      <td>1.087977</td>\n",
       "      <td>10.108336</td>\n",
       "    </tr>\n",
       "    <tr>\n",
       "      <th>943</th>\n",
       "      <td>231</td>\n",
       "      <td>Baseball</td>\n",
       "      <td>GB</td>\n",
       "      <td>1985.0</td>\n",
       "      <td>Sports</td>\n",
       "      <td>Nintendo</td>\n",
       "      <td>0.473000</td>\n",
       "      <td>3.074830</td>\n",
       "      <td>6.478831</td>\n",
       "      <td>0.945954</td>\n",
       "      <td>10.972614</td>\n",
       "    </tr>\n",
       "    <tr>\n",
       "      <th>944</th>\n",
       "      <td>1144</td>\n",
       "      <td>Baseball</td>\n",
       "      <td>GB</td>\n",
       "      <td>1989.0</td>\n",
       "      <td>Sports</td>\n",
       "      <td>Nintendo</td>\n",
       "      <td>0.478448</td>\n",
       "      <td>3.452245</td>\n",
       "      <td>7.103246</td>\n",
       "      <td>0.803931</td>\n",
       "      <td>11.837870</td>\n",
       "    </tr>\n",
       "    <tr>\n",
       "      <th>945</th>\n",
       "      <td>134</td>\n",
       "      <td>Baseball</td>\n",
       "      <td>GB</td>\n",
       "      <td>1992.0</td>\n",
       "      <td>Sports</td>\n",
       "      <td>Nintendo</td>\n",
       "      <td>0.520000</td>\n",
       "      <td>3.829660</td>\n",
       "      <td>7.727661</td>\n",
       "      <td>0.661908</td>\n",
       "      <td>12.739229</td>\n",
       "    </tr>\n",
       "    <tr>\n",
       "      <th>946</th>\n",
       "      <td>134</td>\n",
       "      <td>Baseball</td>\n",
       "      <td>GB</td>\n",
       "      <td>1995.0</td>\n",
       "      <td>Sports</td>\n",
       "      <td>Nintendo</td>\n",
       "      <td>0.680000</td>\n",
       "      <td>3.829660</td>\n",
       "      <td>7.727661</td>\n",
       "      <td>0.661908</td>\n",
       "      <td>12.899229</td>\n",
       "    </tr>\n",
       "    <tr>\n",
       "      <th>947</th>\n",
       "      <td>134</td>\n",
       "      <td>Baseball</td>\n",
       "      <td>PS</td>\n",
       "      <td>1997.0</td>\n",
       "      <td>Sports</td>\n",
       "      <td>Nintendo</td>\n",
       "      <td>0.720000</td>\n",
       "      <td>4.207075</td>\n",
       "      <td>8.352077</td>\n",
       "      <td>0.519885</td>\n",
       "      <td>13.799036</td>\n",
       "    </tr>\n",
       "    <tr>\n",
       "      <th>948</th>\n",
       "      <td>2321</td>\n",
       "      <td>Baseball</td>\n",
       "      <td>Wii</td>\n",
       "      <td>2003.0</td>\n",
       "      <td>Sports</td>\n",
       "      <td>Nintendo</td>\n",
       "      <td>0.730000</td>\n",
       "      <td>4.584489</td>\n",
       "      <td>8.976492</td>\n",
       "      <td>0.377862</td>\n",
       "      <td>14.668843</td>\n",
       "    </tr>\n",
       "    <tr>\n",
       "      <th>949</th>\n",
       "      <td>134</td>\n",
       "      <td>Baseball</td>\n",
       "      <td>GB</td>\n",
       "      <td>2004.0</td>\n",
       "      <td>Sports</td>\n",
       "      <td>Nintendo</td>\n",
       "      <td>0.800000</td>\n",
       "      <td>3.829660</td>\n",
       "      <td>7.727661</td>\n",
       "      <td>0.661908</td>\n",
       "      <td>13.019229</td>\n",
       "    </tr>\n",
       "    <tr>\n",
       "      <th>950</th>\n",
       "      <td>1311</td>\n",
       "      <td>Baseball</td>\n",
       "      <td>Wii</td>\n",
       "      <td>2005.0</td>\n",
       "      <td>Sports</td>\n",
       "      <td>Nintendo</td>\n",
       "      <td>0.710000</td>\n",
       "      <td>4.961904</td>\n",
       "      <td>9.600907</td>\n",
       "      <td>0.235839</td>\n",
       "      <td>15.508651</td>\n",
       "    </tr>\n",
       "    <tr>\n",
       "      <th>951</th>\n",
       "      <td>134</td>\n",
       "      <td>Baseball</td>\n",
       "      <td>X361</td>\n",
       "      <td>2007.0</td>\n",
       "      <td>Sports</td>\n",
       "      <td>Nintendo</td>\n",
       "      <td>0.530000</td>\n",
       "      <td>3.829660</td>\n",
       "      <td>7.727661</td>\n",
       "      <td>0.661908</td>\n",
       "      <td>12.749229</td>\n",
       "    </tr>\n",
       "    <tr>\n",
       "      <th>952</th>\n",
       "      <td>1124</td>\n",
       "      <td>Baseball</td>\n",
       "      <td>X360</td>\n",
       "      <td>2010.0</td>\n",
       "      <td>Sports</td>\n",
       "      <td>Nintendo</td>\n",
       "      <td>0.550000</td>\n",
       "      <td>5.339319</td>\n",
       "      <td>10.225323</td>\n",
       "      <td>0.093816</td>\n",
       "      <td>16.208458</td>\n",
       "    </tr>\n",
       "    <tr>\n",
       "      <th>953</th>\n",
       "      <td>2341</td>\n",
       "      <td>Baseball</td>\n",
       "      <td>X360</td>\n",
       "      <td>2012.0</td>\n",
       "      <td>Sports</td>\n",
       "      <td>Nintendo</td>\n",
       "      <td>0.520000</td>\n",
       "      <td>5.716734</td>\n",
       "      <td>10.849738</td>\n",
       "      <td>-0.048207</td>\n",
       "      <td>17.038265</td>\n",
       "    </tr>\n",
       "    <tr>\n",
       "      <th>954</th>\n",
       "      <td>134</td>\n",
       "      <td>Baseball</td>\n",
       "      <td>X362</td>\n",
       "      <td>2013.0</td>\n",
       "      <td>Sports</td>\n",
       "      <td>Nintendo</td>\n",
       "      <td>0.480000</td>\n",
       "      <td>3.829660</td>\n",
       "      <td>7.727661</td>\n",
       "      <td>0.661908</td>\n",
       "      <td>12.699229</td>\n",
       "    </tr>\n",
       "    <tr>\n",
       "      <th>955</th>\n",
       "      <td>4132</td>\n",
       "      <td>Baseball</td>\n",
       "      <td>PS3</td>\n",
       "      <td>2014.0</td>\n",
       "      <td>Sports</td>\n",
       "      <td>Nintendo</td>\n",
       "      <td>0.470000</td>\n",
       "      <td>6.094149</td>\n",
       "      <td>11.474153</td>\n",
       "      <td>-0.190230</td>\n",
       "      <td>17.848072</td>\n",
       "    </tr>\n",
       "    <tr>\n",
       "      <th>956</th>\n",
       "      <td>1341</td>\n",
       "      <td>Baseball</td>\n",
       "      <td>PS4</td>\n",
       "      <td>2017.0</td>\n",
       "      <td>Sports</td>\n",
       "      <td>Nintendo</td>\n",
       "      <td>0.390000</td>\n",
       "      <td>6.471564</td>\n",
       "      <td>12.098569</td>\n",
       "      <td>-0.332253</td>\n",
       "      <td>18.627880</td>\n",
       "    </tr>\n",
       "    <tr>\n",
       "      <th>957</th>\n",
       "      <td>5542</td>\n",
       "      <td>Baseball</td>\n",
       "      <td>PS4</td>\n",
       "      <td>2019.0</td>\n",
       "      <td>Sports</td>\n",
       "      <td>Nintendo</td>\n",
       "      <td>0.360000</td>\n",
       "      <td>6.848979</td>\n",
       "      <td>12.722984</td>\n",
       "      <td>-0.474276</td>\n",
       "      <td>19.457687</td>\n",
       "    </tr>\n",
       "  </tbody>\n",
       "</table>\n",
       "</div>"
      ],
      "text/plain": [
       "     Rank      Name Platform    Year   Genre Publisher  NA_Sales  EU_Sales  \\\n",
       "941   324  Baseball      NES  1980.0  Sports  Nintendo  0.459000  2.320000   \n",
       "942   422  Baseball      NES  1983.0  Sports  Nintendo  0.468529  2.697415   \n",
       "943   231  Baseball       GB  1985.0  Sports  Nintendo  0.473000  3.074830   \n",
       "944  1144  Baseball       GB  1989.0  Sports  Nintendo  0.478448  3.452245   \n",
       "945   134  Baseball       GB  1992.0  Sports  Nintendo  0.520000  3.829660   \n",
       "946   134  Baseball       GB  1995.0  Sports  Nintendo  0.680000  3.829660   \n",
       "947   134  Baseball       PS  1997.0  Sports  Nintendo  0.720000  4.207075   \n",
       "948  2321  Baseball      Wii  2003.0  Sports  Nintendo  0.730000  4.584489   \n",
       "949   134  Baseball       GB  2004.0  Sports  Nintendo  0.800000  3.829660   \n",
       "950  1311  Baseball      Wii  2005.0  Sports  Nintendo  0.710000  4.961904   \n",
       "951   134  Baseball     X361  2007.0  Sports  Nintendo  0.530000  3.829660   \n",
       "952  1124  Baseball     X360  2010.0  Sports  Nintendo  0.550000  5.339319   \n",
       "953  2341  Baseball     X360  2012.0  Sports  Nintendo  0.520000  5.716734   \n",
       "954   134  Baseball     X362  2013.0  Sports  Nintendo  0.480000  3.829660   \n",
       "955  4132  Baseball      PS3  2014.0  Sports  Nintendo  0.470000  6.094149   \n",
       "956  1341  Baseball      PS4  2017.0  Sports  Nintendo  0.390000  6.471564   \n",
       "957  5542  Baseball      PS4  2019.0  Sports  Nintendo  0.360000  6.848979   \n",
       "\n",
       "      JP_Sales  Other_Sales  Global_Sales  \n",
       "941   5.230000     1.230000      9.239000  \n",
       "942   5.854415     1.087977     10.108336  \n",
       "943   6.478831     0.945954     10.972614  \n",
       "944   7.103246     0.803931     11.837870  \n",
       "945   7.727661     0.661908     12.739229  \n",
       "946   7.727661     0.661908     12.899229  \n",
       "947   8.352077     0.519885     13.799036  \n",
       "948   8.976492     0.377862     14.668843  \n",
       "949   7.727661     0.661908     13.019229  \n",
       "950   9.600907     0.235839     15.508651  \n",
       "951   7.727661     0.661908     12.749229  \n",
       "952  10.225323     0.093816     16.208458  \n",
       "953  10.849738    -0.048207     17.038265  \n",
       "954   7.727661     0.661908     12.699229  \n",
       "955  11.474153    -0.190230     17.848072  \n",
       "956  12.098569    -0.332253     18.627880  \n",
       "957  12.722984    -0.474276     19.457687  "
      ]
     },
     "execution_count": 45,
     "metadata": {},
     "output_type": "execute_result"
    }
   ],
   "source": [
    "baseball = data.loc[data['Name']=='Baseball']\n",
    "baseball"
   ]
  },
  {
   "cell_type": "code",
   "execution_count": null,
   "id": "17c59d70",
   "metadata": {},
   "outputs": [],
   "source": []
  },
  {
   "cell_type": "code",
   "execution_count": null,
   "id": "4fd02838",
   "metadata": {},
   "outputs": [],
   "source": [
    "# to plot two linechart in same graph"
   ]
  },
  {
   "cell_type": "code",
   "execution_count": 50,
   "id": "94c503cf",
   "metadata": {},
   "outputs": [
    {
     "data": {
      "image/png": "[encoded data removed]",
      "text/plain": [
       "<Figure size 432x288 with 1 Axes>"
      ]
     },
     "metadata": {
      "needs_background": "light"
     },
     "output_type": "display_data"
    }
   ],
   "source": [
    "sns.lineplot(data=ih, x='Year', y='NA_Sales',label='ice-hockey')\n",
    "sns.lineplot(data=baseball, x='Year', y='NA_Sales',label='baseball')\n",
    "plt.title('Sales comparison of ice-hockey and baseball')\n",
    "plt.legend(loc='lower left')# loc to change position of labels\n",
    "plt.show()\n"
   ]
  },
  {
   "cell_type": "code",
   "execution_count": null,
   "id": "f391519c",
   "metadata": {},
   "outputs": [],
   "source": [
    "# change position of labels outside the box"
   ]
  },
  {
   "cell_type": "code",
   "execution_count": 58,
   "id": "4cf88199",
   "metadata": {},
   "outputs": [
    {
     "data": {
      "image/png": "[encoded data removed]",
      "text/plain": [
       "<Figure size 432x288 with 1 Axes>"
      ]
     },
     "metadata": {
      "needs_background": "light"
     },
     "output_type": "display_data"
    }
   ],
   "source": [
    "sns.lineplot(data=ih, x='Year', y='NA_Sales',label='ice-hockey')\n",
    "sns.lineplot(data=baseball, x='Year', y='NA_Sales',label='baseball')\n",
    "plt.title('Sales comparison of ice-hockey and baseball')\n",
    "plt.legend(loc=(-0.4,0.8))# loc to change position of labels outside the box\n",
    "plt.show()\n"
   ]
  },
  {
   "cell_type": "code",
   "execution_count": null,
   "id": "dc5a0373",
   "metadata": {},
   "outputs": [],
   "source": []
  },
  {
   "cell_type": "code",
   "execution_count": null,
   "id": "61ea0288",
   "metadata": {},
   "outputs": [],
   "source": [
    "# TO PLACE A TEXT ON HIGHEST SALES VALUE"
   ]
  },
  {
   "cell_type": "code",
   "execution_count": null,
   "id": "3b153186",
   "metadata": {},
   "outputs": [],
   "source": [
    "# find max sales value for ice hockey and its year"
   ]
  },
  {
   "cell_type": "code",
   "execution_count": 65,
   "id": "70e6df1d",
   "metadata": {},
   "outputs": [
    {
     "data": {
      "text/plain": [
       "0.9"
      ]
     },
     "execution_count": 65,
     "metadata": {},
     "output_type": "execute_result"
    }
   ],
   "source": [
    "max(ih['NA_Sales'])"
   ]
  },
  {
   "cell_type": "code",
   "execution_count": 66,
   "id": "a34871e2",
   "metadata": {},
   "outputs": [
    {
     "data": {
      "text/html": [
       "<div>\n",
       "<style scoped>\n",
       "    .dataframe tbody tr th:only-of-type {\n",
       "        vertical-align: middle;\n",
       "    }\n",
       "\n",
       "    .dataframe tbody tr th {\n",
       "        vertical-align: top;\n",
       "    }\n",
       "\n",
       "    .dataframe thead th {\n",
       "        text-align: right;\n",
       "    }\n",
       "</style>\n",
       "<table border=\"1\" class=\"dataframe\">\n",
       "  <thead>\n",
       "    <tr style=\"text-align: right;\">\n",
       "      <th></th>\n",
       "      <th>Rank</th>\n",
       "      <th>Name</th>\n",
       "      <th>Platform</th>\n",
       "      <th>Year</th>\n",
       "      <th>Genre</th>\n",
       "      <th>Publisher</th>\n",
       "      <th>NA_Sales</th>\n",
       "      <th>EU_Sales</th>\n",
       "      <th>JP_Sales</th>\n",
       "      <th>Other_Sales</th>\n",
       "      <th>Global_Sales</th>\n",
       "    </tr>\n",
       "  </thead>\n",
       "  <tbody>\n",
       "    <tr>\n",
       "      <th>6086</th>\n",
       "      <td>3012</td>\n",
       "      <td>Ice Hockey</td>\n",
       "      <td>SNES</td>\n",
       "      <td>2002.0</td>\n",
       "      <td>Sports</td>\n",
       "      <td>Activision</td>\n",
       "      <td>0.9</td>\n",
       "      <td>0.02</td>\n",
       "      <td>0.0</td>\n",
       "      <td>0.01</td>\n",
       "      <td>0.47</td>\n",
       "    </tr>\n",
       "  </tbody>\n",
       "</table>\n",
       "</div>"
      ],
      "text/plain": [
       "      Rank        Name Platform    Year   Genre   Publisher  NA_Sales  \\\n",
       "6086  3012  Ice Hockey     SNES  2002.0  Sports  Activision       0.9   \n",
       "\n",
       "      EU_Sales  JP_Sales  Other_Sales  Global_Sales  \n",
       "6086      0.02       0.0         0.01          0.47  "
      ]
     },
     "execution_count": 66,
     "metadata": {},
     "output_type": "execute_result"
    }
   ],
   "source": [
    "ih.loc[ih['NA_Sales'] == max(ih['NA_Sales'])]"
   ]
  },
  {
   "cell_type": "code",
   "execution_count": 67,
   "id": "bc663ec1",
   "metadata": {},
   "outputs": [
    {
     "data": {
      "text/plain": [
       "6086    2002.0\n",
       "Name: Year, dtype: float64"
      ]
     },
     "execution_count": 67,
     "metadata": {},
     "output_type": "execute_result"
    }
   ],
   "source": [
    "ih.loc[ih['NA_Sales'] == max(ih['NA_Sales'])]['Year']"
   ]
  },
  {
   "cell_type": "code",
   "execution_count": null,
   "id": "87015ec5",
   "metadata": {},
   "outputs": [],
   "source": []
  },
  {
   "cell_type": "code",
   "execution_count": 69,
   "id": "2096b8dd",
   "metadata": {},
   "outputs": [
    {
     "data": {
      "image/png": "[encoded data removed]",
      "text/plain": [
       "<Figure size 432x288 with 1 Axes>"
      ]
     },
     "metadata": {
      "needs_background": "light"
     },
     "output_type": "display_data"
    }
   ],
   "source": [
    "sns.lineplot(data=ih, x='Year', y='NA_Sales',label='ice-hockey')\n",
    "sns.lineplot(data=baseball, x='Year', y='NA_Sales',label='baseball')\n",
    "plt.title('Sales comparison of ice-hockey and baseball')\n",
    "plt.legend(loc=(-0.4,0.8))# loc to change position of labels outside the box\n",
    "plt.text(2002,max(ih['NA_Sales']),'Max sales for hockey')\n",
    "plt.grid()\n",
    "plt.show()\n"
   ]
  },
  {
   "cell_type": "code",
   "execution_count": null,
   "id": "ab120b69",
   "metadata": {},
   "outputs": [],
   "source": []
  },
  {
   "cell_type": "code",
   "execution_count": 70,
   "id": "324cfa25",
   "metadata": {},
   "outputs": [
    {
     "data": {
      "text/html": [
       "<div>\n",
       "<style scoped>\n",
       "    .dataframe tbody tr th:only-of-type {\n",
       "        vertical-align: middle;\n",
       "    }\n",
       "\n",
       "    .dataframe tbody tr th {\n",
       "        vertical-align: top;\n",
       "    }\n",
       "\n",
       "    .dataframe thead th {\n",
       "        text-align: right;\n",
       "    }\n",
       "</style>\n",
       "<table border=\"1\" class=\"dataframe\">\n",
       "  <thead>\n",
       "    <tr style=\"text-align: right;\">\n",
       "      <th></th>\n",
       "      <th>Rank</th>\n",
       "      <th>Name</th>\n",
       "      <th>Platform</th>\n",
       "      <th>Year</th>\n",
       "      <th>Genre</th>\n",
       "      <th>Publisher</th>\n",
       "      <th>NA_Sales</th>\n",
       "      <th>EU_Sales</th>\n",
       "      <th>JP_Sales</th>\n",
       "      <th>Other_Sales</th>\n",
       "      <th>Global_Sales</th>\n",
       "    </tr>\n",
       "  </thead>\n",
       "  <tbody>\n",
       "    <tr>\n",
       "      <th>9514</th>\n",
       "      <td>253</td>\n",
       "      <td>Need for Speed: Most Wanted</td>\n",
       "      <td>PS2</td>\n",
       "      <td>2005.0</td>\n",
       "      <td>Racing</td>\n",
       "      <td>Electronic Arts</td>\n",
       "      <td>5.708036</td>\n",
       "      <td>5.582216</td>\n",
       "      <td>2.474271</td>\n",
       "      <td>4.244977</td>\n",
       "      <td>18.009500</td>\n",
       "    </tr>\n",
       "    <tr>\n",
       "      <th>9515</th>\n",
       "      <td>499</td>\n",
       "      <td>Need for Speed: Most Wanted</td>\n",
       "      <td>PS3</td>\n",
       "      <td>2012.0</td>\n",
       "      <td>Racing</td>\n",
       "      <td>Electronic Arts</td>\n",
       "      <td>4.657510</td>\n",
       "      <td>5.412110</td>\n",
       "      <td>2.186589</td>\n",
       "      <td>4.505704</td>\n",
       "      <td>16.761912</td>\n",
       "    </tr>\n",
       "    <tr>\n",
       "      <th>9516</th>\n",
       "      <td>1175</td>\n",
       "      <td>Need for Speed: Most Wanted</td>\n",
       "      <td>X360</td>\n",
       "      <td>2012.0</td>\n",
       "      <td>Racing</td>\n",
       "      <td>Electronic Arts</td>\n",
       "      <td>4.521964</td>\n",
       "      <td>4.776856</td>\n",
       "      <td>0.394830</td>\n",
       "      <td>3.102880</td>\n",
       "      <td>12.796530</td>\n",
       "    </tr>\n",
       "    <tr>\n",
       "      <th>9517</th>\n",
       "      <td>1532</td>\n",
       "      <td>Need for Speed: Most Wanted</td>\n",
       "      <td>X360</td>\n",
       "      <td>2005.0</td>\n",
       "      <td>Racing</td>\n",
       "      <td>Electronic Arts</td>\n",
       "      <td>5.000000</td>\n",
       "      <td>3.228043</td>\n",
       "      <td>1.087977</td>\n",
       "      <td>2.697415</td>\n",
       "      <td>12.013435</td>\n",
       "    </tr>\n",
       "    <tr>\n",
       "      <th>9518</th>\n",
       "      <td>1744</td>\n",
       "      <td>Need for Speed: Most Wanted</td>\n",
       "      <td>PSV</td>\n",
       "      <td>2012.0</td>\n",
       "      <td>Racing</td>\n",
       "      <td>Electronic Arts</td>\n",
       "      <td>4.032416</td>\n",
       "      <td>4.346074</td>\n",
       "      <td>0.394830</td>\n",
       "      <td>3.613706</td>\n",
       "      <td>12.387025</td>\n",
       "    </tr>\n",
       "    <tr>\n",
       "      <th>9519</th>\n",
       "      <td>2007</td>\n",
       "      <td>Need for Speed: Most Wanted</td>\n",
       "      <td>XB</td>\n",
       "      <td>2005.0</td>\n",
       "      <td>Racing</td>\n",
       "      <td>Electronic Arts</td>\n",
       "      <td>4.365122</td>\n",
       "      <td>4.223471</td>\n",
       "      <td>4.143214</td>\n",
       "      <td>2.004268</td>\n",
       "      <td>15.077078</td>\n",
       "    </tr>\n",
       "    <tr>\n",
       "      <th>9520</th>\n",
       "      <td>3587</td>\n",
       "      <td>Need for Speed: Most Wanted</td>\n",
       "      <td>GC</td>\n",
       "      <td>2005.0</td>\n",
       "      <td>Racing</td>\n",
       "      <td>Electronic Arts</td>\n",
       "      <td>4.156030</td>\n",
       "      <td>2.792725</td>\n",
       "      <td>4.247648</td>\n",
       "      <td>1.087977</td>\n",
       "      <td>12.464505</td>\n",
       "    </tr>\n",
       "    <tr>\n",
       "      <th>9521</th>\n",
       "      <td>5902</td>\n",
       "      <td>Need for Speed: Most Wanted</td>\n",
       "      <td>PC</td>\n",
       "      <td>2005.0</td>\n",
       "      <td>Racing</td>\n",
       "      <td>Electronic Arts</td>\n",
       "      <td>1.087977</td>\n",
       "      <td>3.530324</td>\n",
       "      <td>0.797931</td>\n",
       "      <td>2.004268</td>\n",
       "      <td>7.947867</td>\n",
       "    </tr>\n",
       "    <tr>\n",
       "      <th>9522</th>\n",
       "      <td>6151</td>\n",
       "      <td>Need for Speed: Most Wanted</td>\n",
       "      <td>WiiU</td>\n",
       "      <td>2013.0</td>\n",
       "      <td>Racing</td>\n",
       "      <td>Electronic Arts</td>\n",
       "      <td>3.033887</td>\n",
       "      <td>2.879736</td>\n",
       "      <td>1.536576</td>\n",
       "      <td>1.087977</td>\n",
       "      <td>8.444850</td>\n",
       "    </tr>\n",
       "    <tr>\n",
       "      <th>9523</th>\n",
       "      <td>6280</td>\n",
       "      <td>Need for Speed: Most Wanted</td>\n",
       "      <td>DS</td>\n",
       "      <td>2005.0</td>\n",
       "      <td>Racing</td>\n",
       "      <td>Electronic Arts</td>\n",
       "      <td>3.572884</td>\n",
       "      <td>0.394830</td>\n",
       "      <td>2.658401</td>\n",
       "      <td>1.087977</td>\n",
       "      <td>7.786118</td>\n",
       "    </tr>\n",
       "    <tr>\n",
       "      <th>9524</th>\n",
       "      <td>6494</td>\n",
       "      <td>Need for Speed: Most Wanted</td>\n",
       "      <td>GBA</td>\n",
       "      <td>2005.0</td>\n",
       "      <td>Racing</td>\n",
       "      <td>Electronic Arts</td>\n",
       "      <td>3.339269</td>\n",
       "      <td>2.340740</td>\n",
       "      <td>3.442448</td>\n",
       "      <td>1.199957</td>\n",
       "      <td>10.218564</td>\n",
       "    </tr>\n",
       "    <tr>\n",
       "      <th>9525</th>\n",
       "      <td>11678</td>\n",
       "      <td>Need for Speed: Most Wanted</td>\n",
       "      <td>PC</td>\n",
       "      <td>2012.0</td>\n",
       "      <td>Racing</td>\n",
       "      <td>Electronic Arts</td>\n",
       "      <td>2.474271</td>\n",
       "      <td>2.186589</td>\n",
       "      <td>1.250163</td>\n",
       "      <td>1.087977</td>\n",
       "      <td>6.829149</td>\n",
       "    </tr>\n",
       "  </tbody>\n",
       "</table>\n",
       "</div>"
      ],
      "text/plain": [
       "       Rank                         Name Platform    Year   Genre  \\\n",
       "9514    253  Need for Speed: Most Wanted      PS2  2005.0  Racing   \n",
       "9515    499  Need for Speed: Most Wanted      PS3  2012.0  Racing   \n",
       "9516   1175  Need for Speed: Most Wanted     X360  2012.0  Racing   \n",
       "9517   1532  Need for Speed: Most Wanted     X360  2005.0  Racing   \n",
       "9518   1744  Need for Speed: Most Wanted      PSV  2012.0  Racing   \n",
       "9519   2007  Need for Speed: Most Wanted       XB  2005.0  Racing   \n",
       "9520   3587  Need for Speed: Most Wanted       GC  2005.0  Racing   \n",
       "9521   5902  Need for Speed: Most Wanted       PC  2005.0  Racing   \n",
       "9522   6151  Need for Speed: Most Wanted     WiiU  2013.0  Racing   \n",
       "9523   6280  Need for Speed: Most Wanted       DS  2005.0  Racing   \n",
       "9524   6494  Need for Speed: Most Wanted      GBA  2005.0  Racing   \n",
       "9525  11678  Need for Speed: Most Wanted       PC  2012.0  Racing   \n",
       "\n",
       "            Publisher  NA_Sales  EU_Sales  JP_Sales  Other_Sales  Global_Sales  \n",
       "9514  Electronic Arts  5.708036  5.582216  2.474271     4.244977     18.009500  \n",
       "9515  Electronic Arts  4.657510  5.412110  2.186589     4.505704     16.761912  \n",
       "9516  Electronic Arts  4.521964  4.776856  0.394830     3.102880     12.796530  \n",
       "9517  Electronic Arts  5.000000  3.228043  1.087977     2.697415     12.013435  \n",
       "9518  Electronic Arts  4.032416  4.346074  0.394830     3.613706     12.387025  \n",
       "9519  Electronic Arts  4.365122  4.223471  4.143214     2.004268     15.077078  \n",
       "9520  Electronic Arts  4.156030  2.792725  4.247648     1.087977     12.464505  \n",
       "9521  Electronic Arts  1.087977  3.530324  0.797931     2.004268      7.947867  \n",
       "9522  Electronic Arts  3.033887  2.879736  1.536576     1.087977      8.444850  \n",
       "9523  Electronic Arts  3.572884  0.394830  2.658401     1.087977      7.786118  \n",
       "9524  Electronic Arts  3.339269  2.340740  3.442448     1.199957     10.218564  \n",
       "9525  Electronic Arts  2.474271  2.186589  1.250163     1.087977      6.829149  "
      ]
     },
     "execution_count": 70,
     "metadata": {},
     "output_type": "execute_result"
    }
   ],
   "source": [
    "nfs = data.loc[data['Name']=='Need for Speed: Most Wanted']    \n",
    "nfs"
   ]
  },
  {
   "cell_type": "code",
   "execution_count": 72,
   "id": "de4594b7",
   "metadata": {},
   "outputs": [
    {
     "data": {
      "image/png": "[encoded data removed]",
      "text/plain": [
       "<Figure size 432x288 with 1 Axes>"
      ]
     },
     "metadata": {
      "needs_background": "light"
     },
     "output_type": "display_data"
    }
   ],
   "source": [
    "sns.lineplot(data=ih, x='Year', y='NA_Sales',label='ice-hockey')\n",
    "sns.lineplot(data=baseball, x='Year', y='NA_Sales',label='baseball')\n",
    "sns.lineplot(data=nfs, x='Year', y='NA_Sales',label='need for speed')\n",
    "\n",
    "plt.title('Sales comparison of ice-hockey and baseball')\n",
    "#plt.legend(loc=(-0.4,0.8))# loc to change position of labels outside the box\n",
    "plt.text(2002,max(ih['NA_Sales']),'Max sales for hockey')\n",
    "plt.grid()\n",
    "plt.show()"
   ]
  },
  {
   "cell_type": "code",
   "execution_count": 73,
   "id": "1d1e4635",
   "metadata": {},
   "outputs": [
    {
     "data": {
      "text/plain": [
       "<AxesSubplot:xlabel='Year', ylabel='NA_Sales'>"
      ]
     },
     "execution_count": 73,
     "metadata": {},
     "output_type": "execute_result"
    },
    {
     "data": {
      "image/png": "[encoded data removed]",
      "text/plain": [
       "<Figure size 432x288 with 1 Axes>"
      ]
     },
     "metadata": {
      "needs_background": "light"
     },
     "output_type": "display_data"
    }
   ],
   "source": [
    "sns.lineplot(data=nfs, x='Year', y='NA_Sales',label='need for speed')\n"
   ]
  },
  {
   "cell_type": "code",
   "execution_count": null,
   "id": "5a10347e",
   "metadata": {},
   "outputs": [],
   "source": [
    "#top games according to global sales"
   ]
  },
  {
   "cell_type": "code",
   "execution_count": 76,
   "id": "107ca669",
   "metadata": {},
   "outputs": [
    {
     "data": {
      "text/plain": [
       "Name\n",
       "Baseball                         239.420857\n",
       "Need for Speed: Most Wanted      140.736534\n",
       "FIFA 14                          121.427943\n",
       "FIFA 15                          114.713514\n",
       "LEGO Marvel Super Heroes         108.375309\n",
       "                                    ...    \n",
       "Outdoors Unleashed: Africa 3D      2.712913\n",
       "Psychic Detective                  2.712913\n",
       "Hakuouki: Shinsengumi Kitan        2.712913\n",
       "Karnaaj Rally                      2.712913\n",
       "Elven Legacy                       2.712913\n",
       "Name: Global_Sales, Length: 11493, dtype: float64"
      ]
     },
     "execution_count": 76,
     "metadata": {},
     "output_type": "execute_result"
    }
   ],
   "source": [
    "data.groupby('Name')['Global_Sales'].sum().sort_values(ascending=False)"
   ]
  },
  {
   "cell_type": "code",
   "execution_count": 77,
   "id": "5e5aa4be",
   "metadata": {},
   "outputs": [
    {
     "data": {
      "image/png": "[encoded data removed]",
      "text/plain": [
       "<Figure size 432x288 with 1 Axes>"
      ]
     },
     "metadata": {
      "needs_background": "light"
     },
     "output_type": "display_data"
    }
   ],
   "source": [
    "sns.lineplot(data=baseball, x='Year', y='Global_Sales',label='baseball')\n",
    "sns.lineplot(data=nfs, x='Year', y='Global_Sales',label='need for speed')\n",
    "\n",
    "plt.title('Sales comparison of ice-hockey and baseball')\n",
    "#plt.legend(loc=(-0.4,0.8))# loc to change position of labels outside the box\n",
    "plt.text(2002,max(ih['NA_Sales']),'Max sales for hockey')\n",
    "plt.grid()\n",
    "plt.show()"
   ]
  },
  {
   "cell_type": "code",
   "execution_count": null,
   "id": "22897466",
   "metadata": {},
   "outputs": [],
   "source": []
  },
  {
   "cell_type": "markdown",
   "id": "808efc38",
   "metadata": {},
   "source": [
    "#### LINE AND SCATTER PLOT"
   ]
  },
  {
   "cell_type": "code",
   "execution_count": null,
   "id": "a60fadbc",
   "metadata": {},
   "outputs": [],
   "source": [
    "# comparison between rank and global sales"
   ]
  },
  {
   "cell_type": "code",
   "execution_count": 78,
   "id": "8d04c131",
   "metadata": {},
   "outputs": [
    {
     "data": {
      "text/html": [
       "<div>\n",
       "<style scoped>\n",
       "    .dataframe tbody tr th:only-of-type {\n",
       "        vertical-align: middle;\n",
       "    }\n",
       "\n",
       "    .dataframe tbody tr th {\n",
       "        vertical-align: top;\n",
       "    }\n",
       "\n",
       "    .dataframe thead th {\n",
       "        text-align: right;\n",
       "    }\n",
       "</style>\n",
       "<table border=\"1\" class=\"dataframe\">\n",
       "  <thead>\n",
       "    <tr style=\"text-align: right;\">\n",
       "      <th></th>\n",
       "      <th>Rank</th>\n",
       "      <th>Name</th>\n",
       "      <th>Platform</th>\n",
       "      <th>Year</th>\n",
       "      <th>Genre</th>\n",
       "      <th>Publisher</th>\n",
       "      <th>NA_Sales</th>\n",
       "      <th>EU_Sales</th>\n",
       "      <th>JP_Sales</th>\n",
       "      <th>Other_Sales</th>\n",
       "      <th>Global_Sales</th>\n",
       "    </tr>\n",
       "  </thead>\n",
       "  <tbody>\n",
       "    <tr>\n",
       "      <th>0</th>\n",
       "      <td>2061</td>\n",
       "      <td>1942</td>\n",
       "      <td>NES</td>\n",
       "      <td>1985.0</td>\n",
       "      <td>Shooter</td>\n",
       "      <td>Capcom</td>\n",
       "      <td>4.569217</td>\n",
       "      <td>3.033887</td>\n",
       "      <td>3.439352</td>\n",
       "      <td>1.991671</td>\n",
       "      <td>12.802935</td>\n",
       "    </tr>\n",
       "    <tr>\n",
       "      <th>1</th>\n",
       "      <td>9137</td>\n",
       "      <td>¡Shin Chan Flipa en colores!</td>\n",
       "      <td>DS</td>\n",
       "      <td>2007.0</td>\n",
       "      <td>Platform</td>\n",
       "      <td>505 Games</td>\n",
       "      <td>2.076955</td>\n",
       "      <td>1.493442</td>\n",
       "      <td>3.033887</td>\n",
       "      <td>0.394830</td>\n",
       "      <td>7.034163</td>\n",
       "    </tr>\n",
       "    <tr>\n",
       "      <th>2</th>\n",
       "      <td>14279</td>\n",
       "      <td>.hack: Sekai no Mukou ni + Versus</td>\n",
       "      <td>PS3</td>\n",
       "      <td>2012.0</td>\n",
       "      <td>Action</td>\n",
       "      <td>Namco Bandai Games</td>\n",
       "      <td>1.145709</td>\n",
       "      <td>1.762339</td>\n",
       "      <td>1.493442</td>\n",
       "      <td>0.408693</td>\n",
       "      <td>4.982552</td>\n",
       "    </tr>\n",
       "    <tr>\n",
       "      <th>3</th>\n",
       "      <td>8359</td>\n",
       "      <td>.hack//G.U. Vol.1//Rebirth</td>\n",
       "      <td>PS2</td>\n",
       "      <td>2006.0</td>\n",
       "      <td>Role-Playing</td>\n",
       "      <td>Namco Bandai Games</td>\n",
       "      <td>2.031986</td>\n",
       "      <td>1.389856</td>\n",
       "      <td>3.228043</td>\n",
       "      <td>0.394830</td>\n",
       "      <td>7.226880</td>\n",
       "    </tr>\n",
       "    <tr>\n",
       "      <th>4</th>\n",
       "      <td>7109</td>\n",
       "      <td>.hack//G.U. Vol.2//Reminisce</td>\n",
       "      <td>PS2</td>\n",
       "      <td>2006.0</td>\n",
       "      <td>Role-Playing</td>\n",
       "      <td>Namco Bandai Games</td>\n",
       "      <td>2.792725</td>\n",
       "      <td>2.592054</td>\n",
       "      <td>1.440483</td>\n",
       "      <td>1.493442</td>\n",
       "      <td>8.363113</td>\n",
       "    </tr>\n",
       "  </tbody>\n",
       "</table>\n",
       "</div>"
      ],
      "text/plain": [
       "    Rank                               Name Platform    Year         Genre  \\\n",
       "0   2061                               1942      NES  1985.0       Shooter   \n",
       "1   9137       ¡Shin Chan Flipa en colores!       DS  2007.0      Platform   \n",
       "2  14279  .hack: Sekai no Mukou ni + Versus      PS3  2012.0        Action   \n",
       "3   8359         .hack//G.U. Vol.1//Rebirth      PS2  2006.0  Role-Playing   \n",
       "4   7109       .hack//G.U. Vol.2//Reminisce      PS2  2006.0  Role-Playing   \n",
       "\n",
       "            Publisher  NA_Sales  EU_Sales  JP_Sales  Other_Sales  Global_Sales  \n",
       "0              Capcom  4.569217  3.033887  3.439352     1.991671     12.802935  \n",
       "1           505 Games  2.076955  1.493442  3.033887     0.394830      7.034163  \n",
       "2  Namco Bandai Games  1.145709  1.762339  1.493442     0.408693      4.982552  \n",
       "3  Namco Bandai Games  2.031986  1.389856  3.228043     0.394830      7.226880  \n",
       "4  Namco Bandai Games  2.792725  2.592054  1.440483     1.493442      8.363113  "
      ]
     },
     "execution_count": 78,
     "metadata": {},
     "output_type": "execute_result"
    }
   ],
   "source": [
    "data.head()"
   ]
  },
  {
   "cell_type": "code",
   "execution_count": 79,
   "id": "2cf3f5ca",
   "metadata": {},
   "outputs": [
    {
     "data": {
      "text/plain": [
       "<AxesSubplot:xlabel='Rank', ylabel='Global_Sales'>"
      ]
     },
     "execution_count": 79,
     "metadata": {},
     "output_type": "execute_result"
    },
    {
     "data": {
      "image/png": "[encoded data removed]",
      "text/plain": [
       "<Figure size 432x288 with 1 Axes>"
      ]
     },
     "metadata": {
      "needs_background": "light"
     },
     "output_type": "display_data"
    }
   ],
   "source": [
    "sns.lineplot(data=data,x='Rank',y='Global_Sales')\n",
    "plt.show()\n",
    "\n",
    "#observations: higher the rank lesser the sales as ranks of games decreases and vice-versa"
   ]
  },
  {
   "cell_type": "code",
   "execution_count": 80,
   "id": "f2933cd5",
   "metadata": {},
   "outputs": [
    {
     "data": {
      "image/png": "[encoded data removed]",
      "text/plain": [
       "<Figure size 432x288 with 1 Axes>"
      ]
     },
     "metadata": {
      "needs_background": "light"
     },
     "output_type": "display_data"
    }
   ],
   "source": [
    "sns.scatterplot(data=data,x='Rank',y='Global_Sales')\n",
    "plt.show()"
   ]
  },
  {
   "cell_type": "code",
   "execution_count": 93,
   "id": "ce56f608",
   "metadata": {},
   "outputs": [
    {
     "data": {
      "image/png": "[encoded data removed]",
      "text/plain": [
       "<Figure size 432x288 with 1 Axes>"
      ]
     },
     "metadata": {
      "needs_background": "light"
     },
     "output_type": "display_data"
    }
   ],
   "source": [
    "sns.scatterplot(data=data,x='Rank',y='Global_Sales',hue='Genre')\n",
    "plt.legend(loc=(-0.4,0.1))\n",
    "plt.show()"
   ]
  },
  {
   "cell_type": "code",
   "execution_count": null,
   "id": "3125641d",
   "metadata": {},
   "outputs": [],
   "source": []
  },
  {
   "cell_type": "code",
   "execution_count": null,
   "id": "a62f981b",
   "metadata": {},
   "outputs": [],
   "source": []
  },
  {
   "cell_type": "markdown",
   "id": "8a07cc84",
   "metadata": {},
   "source": [
    "#### 2. CATEGORICAL-CATEGORICAL"
   ]
  },
  {
   "cell_type": "code",
   "execution_count": null,
   "id": "8a423349",
   "metadata": {},
   "outputs": [],
   "source": [
    "# stacked countplot\n",
    "# doged countplot"
   ]
  },
  {
   "cell_type": "code",
   "execution_count": 95,
   "id": "e8010cf8",
   "metadata": {},
   "outputs": [
    {
     "data": {
      "text/html": [
       "<div>\n",
       "<style scoped>\n",
       "    .dataframe tbody tr th:only-of-type {\n",
       "        vertical-align: middle;\n",
       "    }\n",
       "\n",
       "    .dataframe tbody tr th {\n",
       "        vertical-align: top;\n",
       "    }\n",
       "\n",
       "    .dataframe thead th {\n",
       "        text-align: right;\n",
       "    }\n",
       "</style>\n",
       "<table border=\"1\" class=\"dataframe\">\n",
       "  <thead>\n",
       "    <tr style=\"text-align: right;\">\n",
       "      <th></th>\n",
       "      <th>Rank</th>\n",
       "      <th>Name</th>\n",
       "      <th>Platform</th>\n",
       "      <th>Year</th>\n",
       "      <th>Genre</th>\n",
       "      <th>Publisher</th>\n",
       "      <th>NA_Sales</th>\n",
       "      <th>EU_Sales</th>\n",
       "      <th>JP_Sales</th>\n",
       "      <th>Other_Sales</th>\n",
       "      <th>Global_Sales</th>\n",
       "    </tr>\n",
       "  </thead>\n",
       "  <tbody>\n",
       "    <tr>\n",
       "      <th>0</th>\n",
       "      <td>2061</td>\n",
       "      <td>1942</td>\n",
       "      <td>NES</td>\n",
       "      <td>1985.0</td>\n",
       "      <td>Shooter</td>\n",
       "      <td>Capcom</td>\n",
       "      <td>4.569217</td>\n",
       "      <td>3.033887</td>\n",
       "      <td>3.439352</td>\n",
       "      <td>1.991671</td>\n",
       "      <td>12.802935</td>\n",
       "    </tr>\n",
       "    <tr>\n",
       "      <th>1</th>\n",
       "      <td>9137</td>\n",
       "      <td>¡Shin Chan Flipa en colores!</td>\n",
       "      <td>DS</td>\n",
       "      <td>2007.0</td>\n",
       "      <td>Platform</td>\n",
       "      <td>505 Games</td>\n",
       "      <td>2.076955</td>\n",
       "      <td>1.493442</td>\n",
       "      <td>3.033887</td>\n",
       "      <td>0.394830</td>\n",
       "      <td>7.034163</td>\n",
       "    </tr>\n",
       "    <tr>\n",
       "      <th>2</th>\n",
       "      <td>14279</td>\n",
       "      <td>.hack: Sekai no Mukou ni + Versus</td>\n",
       "      <td>PS3</td>\n",
       "      <td>2012.0</td>\n",
       "      <td>Action</td>\n",
       "      <td>Namco Bandai Games</td>\n",
       "      <td>1.145709</td>\n",
       "      <td>1.762339</td>\n",
       "      <td>1.493442</td>\n",
       "      <td>0.408693</td>\n",
       "      <td>4.982552</td>\n",
       "    </tr>\n",
       "    <tr>\n",
       "      <th>3</th>\n",
       "      <td>8359</td>\n",
       "      <td>.hack//G.U. Vol.1//Rebirth</td>\n",
       "      <td>PS2</td>\n",
       "      <td>2006.0</td>\n",
       "      <td>Role-Playing</td>\n",
       "      <td>Namco Bandai Games</td>\n",
       "      <td>2.031986</td>\n",
       "      <td>1.389856</td>\n",
       "      <td>3.228043</td>\n",
       "      <td>0.394830</td>\n",
       "      <td>7.226880</td>\n",
       "    </tr>\n",
       "    <tr>\n",
       "      <th>4</th>\n",
       "      <td>7109</td>\n",
       "      <td>.hack//G.U. Vol.2//Reminisce</td>\n",
       "      <td>PS2</td>\n",
       "      <td>2006.0</td>\n",
       "      <td>Role-Playing</td>\n",
       "      <td>Namco Bandai Games</td>\n",
       "      <td>2.792725</td>\n",
       "      <td>2.592054</td>\n",
       "      <td>1.440483</td>\n",
       "      <td>1.493442</td>\n",
       "      <td>8.363113</td>\n",
       "    </tr>\n",
       "  </tbody>\n",
       "</table>\n",
       "</div>"
      ],
      "text/plain": [
       "    Rank                               Name Platform    Year         Genre  \\\n",
       "0   2061                               1942      NES  1985.0       Shooter   \n",
       "1   9137       ¡Shin Chan Flipa en colores!       DS  2007.0      Platform   \n",
       "2  14279  .hack: Sekai no Mukou ni + Versus      PS3  2012.0        Action   \n",
       "3   8359         .hack//G.U. Vol.1//Rebirth      PS2  2006.0  Role-Playing   \n",
       "4   7109       .hack//G.U. Vol.2//Reminisce      PS2  2006.0  Role-Playing   \n",
       "\n",
       "            Publisher  NA_Sales  EU_Sales  JP_Sales  Other_Sales  Global_Sales  \n",
       "0              Capcom  4.569217  3.033887  3.439352     1.991671     12.802935  \n",
       "1           505 Games  2.076955  1.493442  3.033887     0.394830      7.034163  \n",
       "2  Namco Bandai Games  1.145709  1.762339  1.493442     0.408693      4.982552  \n",
       "3  Namco Bandai Games  2.031986  1.389856  3.228043     0.394830      7.226880  \n",
       "4  Namco Bandai Games  2.792725  2.592054  1.440483     1.493442      8.363113  "
      ]
     },
     "execution_count": 95,
     "metadata": {},
     "output_type": "execute_result"
    }
   ],
   "source": [
    "data.head()"
   ]
  },
  {
   "cell_type": "code",
   "execution_count": null,
   "id": "a7de3683",
   "metadata": {},
   "outputs": [],
   "source": []
  },
  {
   "cell_type": "code",
   "execution_count": null,
   "id": "a3e25961",
   "metadata": {},
   "outputs": [],
   "source": [
    "# top 3 genre based on value_counts"
   ]
  },
  {
   "cell_type": "code",
   "execution_count": 99,
   "id": "68299b29",
   "metadata": {},
   "outputs": [
    {
     "data": {
      "text/plain": [
       "Index(['Action', 'Sports', 'Misc'], dtype='object')"
      ]
     },
     "execution_count": 99,
     "metadata": {},
     "output_type": "execute_result"
    }
   ],
   "source": [
    "data['Genre'].value_counts().head(3).index"
   ]
  },
  {
   "cell_type": "code",
   "execution_count": null,
   "id": "f1a319db",
   "metadata": {},
   "outputs": [],
   "source": []
  },
  {
   "cell_type": "code",
   "execution_count": null,
   "id": "493f8a21",
   "metadata": {},
   "outputs": [],
   "source": [
    "# filtering multiple top values"
   ]
  },
  {
   "cell_type": "code",
   "execution_count": 102,
   "id": "cf208004",
   "metadata": {},
   "outputs": [],
   "source": [
    "top_genre = data['Genre'].value_counts().index[:3]\n",
    "top_publisher = data['Publisher'].value_counts().index[:3]\n",
    "top_platform = data['Platform'].value_counts().index[:3]"
   ]
  },
  {
   "cell_type": "code",
   "execution_count": 103,
   "id": "c6d4a846",
   "metadata": {},
   "outputs": [
    {
     "data": {
      "text/plain": [
       "Index(['Action', 'Sports', 'Misc'], dtype='object')"
      ]
     },
     "execution_count": 103,
     "metadata": {},
     "output_type": "execute_result"
    }
   ],
   "source": [
    "top_genre"
   ]
  },
  {
   "cell_type": "code",
   "execution_count": 104,
   "id": "25555cf2",
   "metadata": {},
   "outputs": [
    {
     "data": {
      "text/plain": [
       "Index(['Electronic Arts', 'Activision', 'Namco Bandai Games'], dtype='object')"
      ]
     },
     "execution_count": 104,
     "metadata": {},
     "output_type": "execute_result"
    }
   ],
   "source": [
    "top_publisher"
   ]
  },
  {
   "cell_type": "code",
   "execution_count": 105,
   "id": "5f1659e9",
   "metadata": {},
   "outputs": [
    {
     "data": {
      "text/plain": [
       "Index(['DS', 'PS2', 'PS3'], dtype='object')"
      ]
     },
     "execution_count": 105,
     "metadata": {},
     "output_type": "execute_result"
    }
   ],
   "source": [
    "top_platform"
   ]
  },
  {
   "cell_type": "code",
   "execution_count": null,
   "id": "ca74480d",
   "metadata": {},
   "outputs": [],
   "source": []
  },
  {
   "cell_type": "code",
   "execution_count": 123,
   "id": "6b9c3da8",
   "metadata": {},
   "outputs": [
    {
     "data": {
      "text/html": [
       "<div>\n",
       "<style scoped>\n",
       "    .dataframe tbody tr th:only-of-type {\n",
       "        vertical-align: middle;\n",
       "    }\n",
       "\n",
       "    .dataframe tbody tr th {\n",
       "        vertical-align: top;\n",
       "    }\n",
       "\n",
       "    .dataframe thead th {\n",
       "        text-align: right;\n",
       "    }\n",
       "</style>\n",
       "<table border=\"1\" class=\"dataframe\">\n",
       "  <thead>\n",
       "    <tr style=\"text-align: right;\">\n",
       "      <th></th>\n",
       "      <th>Rank</th>\n",
       "      <th>Name</th>\n",
       "      <th>Platform</th>\n",
       "      <th>Year</th>\n",
       "      <th>Genre</th>\n",
       "      <th>Publisher</th>\n",
       "      <th>NA_Sales</th>\n",
       "      <th>EU_Sales</th>\n",
       "      <th>JP_Sales</th>\n",
       "      <th>Other_Sales</th>\n",
       "      <th>Global_Sales</th>\n",
       "    </tr>\n",
       "  </thead>\n",
       "  <tbody>\n",
       "    <tr>\n",
       "      <th>2</th>\n",
       "      <td>14279</td>\n",
       "      <td>.hack: Sekai no Mukou ni + Versus</td>\n",
       "      <td>PS3</td>\n",
       "      <td>2012.0</td>\n",
       "      <td>Action</td>\n",
       "      <td>Namco Bandai Games</td>\n",
       "      <td>1.145709</td>\n",
       "      <td>1.762339</td>\n",
       "      <td>1.493442</td>\n",
       "      <td>0.408693</td>\n",
       "      <td>4.982552</td>\n",
       "    </tr>\n",
       "    <tr>\n",
       "      <th>13</th>\n",
       "      <td>2742</td>\n",
       "      <td>[Prototype 2]</td>\n",
       "      <td>PS3</td>\n",
       "      <td>2012.0</td>\n",
       "      <td>Action</td>\n",
       "      <td>Activision</td>\n",
       "      <td>3.978349</td>\n",
       "      <td>3.727034</td>\n",
       "      <td>0.848807</td>\n",
       "      <td>2.792725</td>\n",
       "      <td>11.447989</td>\n",
       "    </tr>\n",
       "    <tr>\n",
       "      <th>16</th>\n",
       "      <td>1604</td>\n",
       "      <td>[Prototype]</td>\n",
       "      <td>PS3</td>\n",
       "      <td>2009.0</td>\n",
       "      <td>Action</td>\n",
       "      <td>Activision</td>\n",
       "      <td>4.569217</td>\n",
       "      <td>4.108402</td>\n",
       "      <td>1.187272</td>\n",
       "      <td>3.339269</td>\n",
       "      <td>13.181205</td>\n",
       "    </tr>\n",
       "    <tr>\n",
       "      <th>19</th>\n",
       "      <td>1741</td>\n",
       "      <td>007: Quantum of Solace</td>\n",
       "      <td>PS3</td>\n",
       "      <td>2008.0</td>\n",
       "      <td>Action</td>\n",
       "      <td>Activision</td>\n",
       "      <td>4.156030</td>\n",
       "      <td>4.346074</td>\n",
       "      <td>1.087977</td>\n",
       "      <td>3.390562</td>\n",
       "      <td>12.980643</td>\n",
       "    </tr>\n",
       "    <tr>\n",
       "      <th>21</th>\n",
       "      <td>4501</td>\n",
       "      <td>007: Quantum of Solace</td>\n",
       "      <td>PS2</td>\n",
       "      <td>2008.0</td>\n",
       "      <td>Action</td>\n",
       "      <td>Activision</td>\n",
       "      <td>3.228043</td>\n",
       "      <td>2.738800</td>\n",
       "      <td>2.585598</td>\n",
       "      <td>3.652926</td>\n",
       "      <td>11.780257</td>\n",
       "    </tr>\n",
       "    <tr>\n",
       "      <th>...</th>\n",
       "      <td>...</td>\n",
       "      <td>...</td>\n",
       "      <td>...</td>\n",
       "      <td>...</td>\n",
       "      <td>...</td>\n",
       "      <td>...</td>\n",
       "      <td>...</td>\n",
       "      <td>...</td>\n",
       "      <td>...</td>\n",
       "      <td>...</td>\n",
       "      <td>...</td>\n",
       "    </tr>\n",
       "    <tr>\n",
       "      <th>16438</th>\n",
       "      <td>14938</td>\n",
       "      <td>Yes! Precure 5 Go Go Zenin Shu Go! Dream Festival</td>\n",
       "      <td>DS</td>\n",
       "      <td>2008.0</td>\n",
       "      <td>Action</td>\n",
       "      <td>Namco Bandai Games</td>\n",
       "      <td>1.087977</td>\n",
       "      <td>0.592445</td>\n",
       "      <td>1.087977</td>\n",
       "      <td>0.394830</td>\n",
       "      <td>3.509168</td>\n",
       "    </tr>\n",
       "    <tr>\n",
       "      <th>16479</th>\n",
       "      <td>10979</td>\n",
       "      <td>Young Justice: Legacy</td>\n",
       "      <td>PS3</td>\n",
       "      <td>2013.0</td>\n",
       "      <td>Action</td>\n",
       "      <td>Namco Bandai Games</td>\n",
       "      <td>2.186589</td>\n",
       "      <td>1.087977</td>\n",
       "      <td>3.409089</td>\n",
       "      <td>0.394830</td>\n",
       "      <td>7.359902</td>\n",
       "    </tr>\n",
       "    <tr>\n",
       "      <th>16601</th>\n",
       "      <td>11802</td>\n",
       "      <td>ZhuZhu Pets: Quest for Zhu</td>\n",
       "      <td>DS</td>\n",
       "      <td>2011.0</td>\n",
       "      <td>Misc</td>\n",
       "      <td>Activision</td>\n",
       "      <td>2.340740</td>\n",
       "      <td>1.525543</td>\n",
       "      <td>3.103825</td>\n",
       "      <td>0.394830</td>\n",
       "      <td>7.372592</td>\n",
       "    </tr>\n",
       "    <tr>\n",
       "      <th>16636</th>\n",
       "      <td>9196</td>\n",
       "      <td>Zoobles! Spring to Life!</td>\n",
       "      <td>DS</td>\n",
       "      <td>2011.0</td>\n",
       "      <td>Misc</td>\n",
       "      <td>Activision</td>\n",
       "      <td>2.697415</td>\n",
       "      <td>1.087977</td>\n",
       "      <td>2.760718</td>\n",
       "      <td>0.394830</td>\n",
       "      <td>6.915540</td>\n",
       "    </tr>\n",
       "    <tr>\n",
       "      <th>16640</th>\n",
       "      <td>9816</td>\n",
       "      <td>Zubo</td>\n",
       "      <td>DS</td>\n",
       "      <td>2008.0</td>\n",
       "      <td>Misc</td>\n",
       "      <td>Electronic Arts</td>\n",
       "      <td>2.592054</td>\n",
       "      <td>1.493442</td>\n",
       "      <td>1.493442</td>\n",
       "      <td>0.394830</td>\n",
       "      <td>5.969572</td>\n",
       "    </tr>\n",
       "  </tbody>\n",
       "</table>\n",
       "<p>617 rows × 11 columns</p>\n",
       "</div>"
      ],
      "text/plain": [
       "        Rank                                               Name Platform  \\\n",
       "2      14279                  .hack: Sekai no Mukou ni + Versus      PS3   \n",
       "13      2742                                      [Prototype 2]      PS3   \n",
       "16      1604                                        [Prototype]      PS3   \n",
       "19      1741                             007: Quantum of Solace      PS3   \n",
       "21      4501                             007: Quantum of Solace      PS2   \n",
       "...      ...                                                ...      ...   \n",
       "16438  14938  Yes! Precure 5 Go Go Zenin Shu Go! Dream Festival       DS   \n",
       "16479  10979                              Young Justice: Legacy      PS3   \n",
       "16601  11802                         ZhuZhu Pets: Quest for Zhu       DS   \n",
       "16636   9196                           Zoobles! Spring to Life!       DS   \n",
       "16640   9816                                               Zubo       DS   \n",
       "\n",
       "         Year   Genre           Publisher  NA_Sales  EU_Sales  JP_Sales  \\\n",
       "2      2012.0  Action  Namco Bandai Games  1.145709  1.762339  1.493442   \n",
       "13     2012.0  Action          Activision  3.978349  3.727034  0.848807   \n",
       "16     2009.0  Action          Activision  4.569217  4.108402  1.187272   \n",
       "19     2008.0  Action          Activision  4.156030  4.346074  1.087977   \n",
       "21     2008.0  Action          Activision  3.228043  2.738800  2.585598   \n",
       "...       ...     ...                 ...       ...       ...       ...   \n",
       "16438  2008.0  Action  Namco Bandai Games  1.087977  0.592445  1.087977   \n",
       "16479  2013.0  Action  Namco Bandai Games  2.186589  1.087977  3.409089   \n",
       "16601  2011.0    Misc          Activision  2.340740  1.525543  3.103825   \n",
       "16636  2011.0    Misc          Activision  2.697415  1.087977  2.760718   \n",
       "16640  2008.0    Misc     Electronic Arts  2.592054  1.493442  1.493442   \n",
       "\n",
       "       Other_Sales  Global_Sales  \n",
       "2         0.408693      4.982552  \n",
       "13        2.792725     11.447989  \n",
       "16        3.339269     13.181205  \n",
       "19        3.390562     12.980643  \n",
       "21        3.652926     11.780257  \n",
       "...            ...           ...  \n",
       "16438     0.394830      3.509168  \n",
       "16479     0.394830      7.359902  \n",
       "16601     0.394830      7.372592  \n",
       "16636     0.394830      6.915540  \n",
       "16640     0.394830      5.969572  \n",
       "\n",
       "[617 rows x 11 columns]"
      ]
     },
     "execution_count": 123,
     "metadata": {},
     "output_type": "execute_result"
    }
   ],
   "source": [
    "top_3_data = data.loc[(data['Genre'].isin(top_genre)) & (data['Publisher'].isin(top_publisher)) & (data['Platform'].isin(top_platform))] \n",
    "top_3_data"
   ]
  },
  {
   "cell_type": "code",
   "execution_count": null,
   "id": "ee37709a",
   "metadata": {},
   "outputs": [],
   "source": []
  },
  {
   "cell_type": "code",
   "execution_count": null,
   "id": "3e101a9f",
   "metadata": {},
   "outputs": [],
   "source": [
    "# stacked countplot\n",
    "# doged countplot"
   ]
  },
  {
   "cell_type": "code",
   "execution_count": null,
   "id": "012e4293",
   "metadata": {},
   "outputs": [],
   "source": []
  },
  {
   "cell_type": "markdown",
   "id": "5c01e1a6",
   "metadata": {},
   "source": [
    "#### DODGED PLOT"
   ]
  },
  {
   "cell_type": "code",
   "execution_count": 125,
   "id": "5bb1ebf0",
   "metadata": {},
   "outputs": [
    {
     "data": {
      "text/plain": [
       "<AxesSubplot:xlabel='Publisher', ylabel='count'>"
      ]
     },
     "execution_count": 125,
     "metadata": {},
     "output_type": "execute_result"
    },
    {
     "data": {
      "image/png": "[encoded data removed]",
      "text/plain": [
       "<Figure size 432x288 with 1 Axes>"
      ]
     },
     "metadata": {
      "needs_background": "light"
     },
     "output_type": "display_data"
    }
   ],
   "source": [
    "sns.countplot(data=top_3_data, x='Publisher',hue='Platform')"
   ]
  },
  {
   "cell_type": "code",
   "execution_count": null,
   "id": "0f1fa697",
   "metadata": {},
   "outputs": [],
   "source": []
  },
  {
   "cell_type": "markdown",
   "id": "a77eef03",
   "metadata": {},
   "source": [
    "#### STACKED BAR CHART"
   ]
  },
  {
   "cell_type": "code",
   "execution_count": 130,
   "id": "d27b811a",
   "metadata": {},
   "outputs": [
    {
     "data": {
      "text/plain": [
       "<AxesSubplot:xlabel='Publisher', ylabel='count'>"
      ]
     },
     "execution_count": 130,
     "metadata": {},
     "output_type": "execute_result"
    },
    {
     "data": {
      "image/png": "[encoded data removed]",
      "text/plain": [
       "<Figure size 432x288 with 1 Axes>"
      ]
     },
     "metadata": {
      "needs_background": "light"
     },
     "output_type": "display_data"
    }
   ],
   "source": [
    "sns.countplot(data=top_3_data, x='Publisher',hue='Genre',dodge=False)"
   ]
  },
  {
   "cell_type": "code",
   "execution_count": 144,
   "id": "3aac114c",
   "metadata": {},
   "outputs": [
    {
     "data": {
      "text/plain": [
       "Electronic Arts       263\n",
       "Activision            194\n",
       "Namco Bandai Games    160\n",
       "Name: Publisher, dtype: int64"
      ]
     },
     "execution_count": 144,
     "metadata": {},
     "output_type": "execute_result"
    }
   ],
   "source": [
    "top_3_data['Publisher'].value_counts()"
   ]
  },
  {
   "cell_type": "code",
   "execution_count": null,
   "id": "ad0d9e6a",
   "metadata": {},
   "outputs": [],
   "source": []
  },
  {
   "cell_type": "code",
   "execution_count": null,
   "id": "419d36c8",
   "metadata": {},
   "outputs": [],
   "source": []
  },
  {
   "cell_type": "markdown",
   "id": "32e8832f",
   "metadata": {},
   "source": [
    "### CATEGORICAL TO NUMERICAL"
   ]
  },
  {
   "cell_type": "code",
   "execution_count": null,
   "id": "9527b29c",
   "metadata": {},
   "outputs": [],
   "source": [
    "# histogram\n",
    "# boxplot"
   ]
  },
  {
   "cell_type": "code",
   "execution_count": null,
   "id": "0b65dfcc",
   "metadata": {},
   "outputs": [],
   "source": []
  },
  {
   "cell_type": "code",
   "execution_count": null,
   "id": "cd982002",
   "metadata": {},
   "outputs": [],
   "source": [
    "# distribution of global sales of top three publishers "
   ]
  },
  {
   "cell_type": "code",
   "execution_count": 151,
   "id": "6310b625",
   "metadata": {},
   "outputs": [
    {
     "data": {
      "text/plain": [
       "Text(0.5, 1.0, 'sales for top three publisher')"
      ]
     },
     "execution_count": 151,
     "metadata": {},
     "output_type": "execute_result"
    },
    {
     "data": {
      "image/png": "[encoded data removed]",
      "text/plain": [
       "<Figure size 864x720 with 1 Axes>"
      ]
     },
     "metadata": {
      "needs_background": "light"
     },
     "output_type": "display_data"
    }
   ],
   "source": [
    "plt.figure(figsize=(12,10))\n",
    "sns.boxplot(data=top_3_data,y='Global_Sales',x='Publisher')\n",
    "plt.title('sales for top three publisher')"
   ]
  },
  {
   "cell_type": "code",
   "execution_count": null,
   "id": "f56758e2",
   "metadata": {},
   "outputs": [],
   "source": []
  },
  {
   "cell_type": "code",
   "execution_count": null,
   "id": "4b0179c8",
   "metadata": {},
   "outputs": [],
   "source": []
  },
  {
   "cell_type": "code",
   "execution_count": null,
   "id": "cab9f722",
   "metadata": {},
   "outputs": [],
   "source": [
    "# compare sales with genre"
   ]
  },
  {
   "cell_type": "code",
   "execution_count": 153,
   "id": "e67f9b40",
   "metadata": {},
   "outputs": [
    {
     "data": {
      "text/plain": [
       "Text(0.5, 1.0, 'sales for top three genre')"
      ]
     },
     "execution_count": 153,
     "metadata": {},
     "output_type": "execute_result"
    },
    {
     "data": {
      "image/png": "[encoded data removed]",
      "text/plain": [
       "<Figure size 720x576 with 1 Axes>"
      ]
     },
     "metadata": {
      "needs_background": "light"
     },
     "output_type": "display_data"
    }
   ],
   "source": [
    "plt.figure(figsize=(10,8))\n",
    "sns.boxplot(data=top_3_data,y='Global_Sales',x='Genre')\n",
    "plt.title('sales for top three genre')"
   ]
  },
  {
   "cell_type": "code",
   "execution_count": 173,
   "id": "5d11141f",
   "metadata": {},
   "outputs": [
    {
     "data": {
      "text/plain": [
       "<AxesSubplot:xlabel='Publisher', ylabel='count'>"
      ]
     },
     "execution_count": 173,
     "metadata": {},
     "output_type": "execute_result"
    },
    {
     "data": {
      "image/png": "[encoded data removed]",
      "text/plain": [
       "<Figure size 432x288 with 1 Axes>"
      ]
     },
     "metadata": {
      "needs_background": "light"
     },
     "output_type": "display_data"
    }
   ],
   "source": [
    "# for countplot\n",
    "sns.countplot(data=top_3_data,x='Publisher',hue='Platform')"
   ]
  },
  {
   "cell_type": "code",
   "execution_count": null,
   "id": "04aed049",
   "metadata": {},
   "outputs": [],
   "source": []
  },
  {
   "cell_type": "code",
   "execution_count": 171,
   "id": "1dd54679",
   "metadata": {
    "scrolled": true
   },
   "outputs": [
    {
     "data": {
      "text/plain": [
       "<AxesSubplot:xlabel='Genre', ylabel='Global_Sales'>"
      ]
     },
     "execution_count": 171,
     "metadata": {},
     "output_type": "execute_result"
    },
    {
     "data": {
      "image/png": "[encoded data removed]",
      "text/plain": [
       "<Figure size 432x288 with 1 Axes>"
      ]
     },
     "metadata": {
      "needs_background": "light"
     },
     "output_type": "display_data"
    }
   ],
   "source": [
    "sns.barplot(data=top_3_data,x='Genre',y='Global_Sales',estimator=np.mean)"
   ]
  },
  {
   "cell_type": "code",
   "execution_count": null,
   "id": "7d478218",
   "metadata": {},
   "outputs": [],
   "source": []
  },
  {
   "cell_type": "code",
   "execution_count": null,
   "id": "b6553daf",
   "metadata": {},
   "outputs": [],
   "source": []
  },
  {
   "cell_type": "code",
   "execution_count": 162,
   "id": "1fd353ff",
   "metadata": {
    "scrolled": true
   },
   "outputs": [
    {
     "data": {
      "text/plain": [
       "<matplotlib.legend.Legend at 0x1e4af940e80>"
      ]
     },
     "execution_count": 162,
     "metadata": {},
     "output_type": "execute_result"
    },
    {
     "data": {
      "image/png": "[encoded data removed]",
      "text/plain": [
       "<Figure size 432x288 with 1 Axes>"
      ]
     },
     "metadata": {
      "needs_background": "light"
     },
     "output_type": "display_data"
    }
   ],
   "source": [
    "sns.barplot(data=top_3_data,x='Genre',y='Global_Sales',hue='Publisher',estimator=np.mean)\n",
    "plt.legend(loc=(-0.6,0.2))"
   ]
  },
  {
   "cell_type": "code",
   "execution_count": 169,
   "id": "a900a793",
   "metadata": {},
   "outputs": [
    {
     "data": {
      "text/plain": [
       "<matplotlib.legend.Legend at 0x1e4afef19d0>"
      ]
     },
     "execution_count": 169,
     "metadata": {},
     "output_type": "execute_result"
    },
    {
     "data": {
      "image/png": "[encoded data removed]",
      "text/plain": [
       "<Figure size 432x288 with 1 Axes>"
      ]
     },
     "metadata": {
      "needs_background": "light"
     },
     "output_type": "display_data"
    }
   ],
   "source": [
    "sns.barplot(data=top_3_data,x='Genre',y='Global_Sales',hue='Publisher')\n",
    "plt.legend(loc=(-0.6,0.2))"
   ]
  },
  {
   "cell_type": "code",
   "execution_count": null,
   "id": "a2641d3d",
   "metadata": {},
   "outputs": [],
   "source": []
  },
  {
   "cell_type": "code",
   "execution_count": null,
   "id": "24965bd4",
   "metadata": {},
   "outputs": [],
   "source": []
  },
  {
   "cell_type": "markdown",
   "id": "78cd388c",
   "metadata": {},
   "source": [
    "#### KDE PLOT"
   ]
  },
  {
   "cell_type": "code",
   "execution_count": null,
   "id": "e1ca2463",
   "metadata": {},
   "outputs": [],
   "source": [
    "# UNIVARIATE ANALYSIS"
   ]
  },
  {
   "cell_type": "code",
   "execution_count": 174,
   "id": "cf5f5b01",
   "metadata": {},
   "outputs": [
    {
     "data": {
      "text/plain": [
       "(array([ 112.,   70.,   92.,  449., 1274., 2440., 3921., 5262., 2406.,\n",
       "         355.]),\n",
       " array([1980., 1984., 1988., 1992., 1996., 2000., 2004., 2008., 2012.,\n",
       "        2016., 2020.]),\n",
       " <BarContainer object of 10 artists>)"
      ]
     },
     "execution_count": 174,
     "metadata": {},
     "output_type": "execute_result"
    },
    {
     "data": {
      "image/png": "[encoded data removed]",
      "text/plain": [
       "<Figure size 432x288 with 1 Axes>"
      ]
     },
     "metadata": {
      "needs_background": "light"
     },
     "output_type": "display_data"
    }
   ],
   "source": [
    "plt.hist(data['Year'])"
   ]
  },
  {
   "cell_type": "code",
   "execution_count": null,
   "id": "f6e58117",
   "metadata": {},
   "outputs": [],
   "source": []
  },
  {
   "cell_type": "code",
   "execution_count": 177,
   "id": "21e454ed",
   "metadata": {},
   "outputs": [
    {
     "data": {
      "text/plain": [
       "<AxesSubplot:xlabel='Year', ylabel='Count'>"
      ]
     },
     "execution_count": 177,
     "metadata": {},
     "output_type": "execute_result"
    },
    {
     "data": {
      "image/png": "[encoded data removed]",
      "text/plain": [
       "<Figure size 432x288 with 1 Axes>"
      ]
     },
     "metadata": {
      "needs_background": "light"
     },
     "output_type": "display_data"
    }
   ],
   "source": [
    "sns.histplot(data=data,x=data['Year'],bins=20)"
   ]
  },
  {
   "cell_type": "code",
   "execution_count": null,
   "id": "953e9fa2",
   "metadata": {},
   "outputs": [],
   "source": []
  },
  {
   "cell_type": "code",
   "execution_count": 178,
   "id": "1c06d18d",
   "metadata": {},
   "outputs": [
    {
     "data": {
      "text/plain": [
       "<AxesSubplot:xlabel='Year', ylabel='Density'>"
      ]
     },
     "execution_count": 178,
     "metadata": {},
     "output_type": "execute_result"
    },
    {
     "data": {
      "image/png": "[encoded data removed]",
      "text/plain": [
       "<Figure size 432x288 with 1 Axes>"
      ]
     },
     "metadata": {
      "needs_background": "light"
     },
     "output_type": "display_data"
    }
   ],
   "source": [
    "sns.kdeplot(data=data,x=data['Year'])"
   ]
  },
  {
   "cell_type": "code",
   "execution_count": null,
   "id": "6bfb72fc",
   "metadata": {},
   "outputs": [],
   "source": []
  },
  {
   "cell_type": "code",
   "execution_count": null,
   "id": "505242f8",
   "metadata": {},
   "outputs": [],
   "source": []
  },
  {
   "cell_type": "markdown",
   "id": "4106e5e8",
   "metadata": {},
   "source": [
    "### ASSIGNMENT"
   ]
  },
  {
   "cell_type": "code",
   "execution_count": null,
   "id": "ed10ade7",
   "metadata": {},
   "outputs": [],
   "source": [
    "# Q1"
   ]
  },
  {
   "cell_type": "code",
   "execution_count": 179,
   "id": "4edd60c5",
   "metadata": {},
   "outputs": [],
   "source": [
    "titanic = sns.load_dataset('titanic')"
   ]
  },
  {
   "cell_type": "code",
   "execution_count": 180,
   "id": "ec3908d3",
   "metadata": {},
   "outputs": [
    {
     "data": {
      "text/html": [
       "<div>\n",
       "<style scoped>\n",
       "    .dataframe tbody tr th:only-of-type {\n",
       "        vertical-align: middle;\n",
       "    }\n",
       "\n",
       "    .dataframe tbody tr th {\n",
       "        vertical-align: top;\n",
       "    }\n",
       "\n",
       "    .dataframe thead th {\n",
       "        text-align: right;\n",
       "    }\n",
       "</style>\n",
       "<table border=\"1\" class=\"dataframe\">\n",
       "  <thead>\n",
       "    <tr style=\"text-align: right;\">\n",
       "      <th></th>\n",
       "      <th>survived</th>\n",
       "      <th>pclass</th>\n",
       "      <th>sex</th>\n",
       "      <th>age</th>\n",
       "      <th>sibsp</th>\n",
       "      <th>parch</th>\n",
       "      <th>fare</th>\n",
       "      <th>embarked</th>\n",
       "      <th>class</th>\n",
       "      <th>who</th>\n",
       "      <th>adult_male</th>\n",
       "      <th>deck</th>\n",
       "      <th>embark_town</th>\n",
       "      <th>alive</th>\n",
       "      <th>alone</th>\n",
       "    </tr>\n",
       "  </thead>\n",
       "  <tbody>\n",
       "    <tr>\n",
       "      <th>0</th>\n",
       "      <td>0</td>\n",
       "      <td>3</td>\n",
       "      <td>male</td>\n",
       "      <td>22.0</td>\n",
       "      <td>1</td>\n",
       "      <td>0</td>\n",
       "      <td>7.2500</td>\n",
       "      <td>S</td>\n",
       "      <td>Third</td>\n",
       "      <td>man</td>\n",
       "      <td>True</td>\n",
       "      <td>NaN</td>\n",
       "      <td>Southampton</td>\n",
       "      <td>no</td>\n",
       "      <td>False</td>\n",
       "    </tr>\n",
       "    <tr>\n",
       "      <th>1</th>\n",
       "      <td>1</td>\n",
       "      <td>1</td>\n",
       "      <td>female</td>\n",
       "      <td>38.0</td>\n",
       "      <td>1</td>\n",
       "      <td>0</td>\n",
       "      <td>71.2833</td>\n",
       "      <td>C</td>\n",
       "      <td>First</td>\n",
       "      <td>woman</td>\n",
       "      <td>False</td>\n",
       "      <td>C</td>\n",
       "      <td>Cherbourg</td>\n",
       "      <td>yes</td>\n",
       "      <td>False</td>\n",
       "    </tr>\n",
       "    <tr>\n",
       "      <th>2</th>\n",
       "      <td>1</td>\n",
       "      <td>3</td>\n",
       "      <td>female</td>\n",
       "      <td>26.0</td>\n",
       "      <td>0</td>\n",
       "      <td>0</td>\n",
       "      <td>7.9250</td>\n",
       "      <td>S</td>\n",
       "      <td>Third</td>\n",
       "      <td>woman</td>\n",
       "      <td>False</td>\n",
       "      <td>NaN</td>\n",
       "      <td>Southampton</td>\n",
       "      <td>yes</td>\n",
       "      <td>True</td>\n",
       "    </tr>\n",
       "    <tr>\n",
       "      <th>3</th>\n",
       "      <td>1</td>\n",
       "      <td>1</td>\n",
       "      <td>female</td>\n",
       "      <td>35.0</td>\n",
       "      <td>1</td>\n",
       "      <td>0</td>\n",
       "      <td>53.1000</td>\n",
       "      <td>S</td>\n",
       "      <td>First</td>\n",
       "      <td>woman</td>\n",
       "      <td>False</td>\n",
       "      <td>C</td>\n",
       "      <td>Southampton</td>\n",
       "      <td>yes</td>\n",
       "      <td>False</td>\n",
       "    </tr>\n",
       "    <tr>\n",
       "      <th>4</th>\n",
       "      <td>0</td>\n",
       "      <td>3</td>\n",
       "      <td>male</td>\n",
       "      <td>35.0</td>\n",
       "      <td>0</td>\n",
       "      <td>0</td>\n",
       "      <td>8.0500</td>\n",
       "      <td>S</td>\n",
       "      <td>Third</td>\n",
       "      <td>man</td>\n",
       "      <td>True</td>\n",
       "      <td>NaN</td>\n",
       "      <td>Southampton</td>\n",
       "      <td>no</td>\n",
       "      <td>True</td>\n",
       "    </tr>\n",
       "    <tr>\n",
       "      <th>...</th>\n",
       "      <td>...</td>\n",
       "      <td>...</td>\n",
       "      <td>...</td>\n",
       "      <td>...</td>\n",
       "      <td>...</td>\n",
       "      <td>...</td>\n",
       "      <td>...</td>\n",
       "      <td>...</td>\n",
       "      <td>...</td>\n",
       "      <td>...</td>\n",
       "      <td>...</td>\n",
       "      <td>...</td>\n",
       "      <td>...</td>\n",
       "      <td>...</td>\n",
       "      <td>...</td>\n",
       "    </tr>\n",
       "    <tr>\n",
       "      <th>886</th>\n",
       "      <td>0</td>\n",
       "      <td>2</td>\n",
       "      <td>male</td>\n",
       "      <td>27.0</td>\n",
       "      <td>0</td>\n",
       "      <td>0</td>\n",
       "      <td>13.0000</td>\n",
       "      <td>S</td>\n",
       "      <td>Second</td>\n",
       "      <td>man</td>\n",
       "      <td>True</td>\n",
       "      <td>NaN</td>\n",
       "      <td>Southampton</td>\n",
       "      <td>no</td>\n",
       "      <td>True</td>\n",
       "    </tr>\n",
       "    <tr>\n",
       "      <th>887</th>\n",
       "      <td>1</td>\n",
       "      <td>1</td>\n",
       "      <td>female</td>\n",
       "      <td>19.0</td>\n",
       "      <td>0</td>\n",
       "      <td>0</td>\n",
       "      <td>30.0000</td>\n",
       "      <td>S</td>\n",
       "      <td>First</td>\n",
       "      <td>woman</td>\n",
       "      <td>False</td>\n",
       "      <td>B</td>\n",
       "      <td>Southampton</td>\n",
       "      <td>yes</td>\n",
       "      <td>True</td>\n",
       "    </tr>\n",
       "    <tr>\n",
       "      <th>888</th>\n",
       "      <td>0</td>\n",
       "      <td>3</td>\n",
       "      <td>female</td>\n",
       "      <td>NaN</td>\n",
       "      <td>1</td>\n",
       "      <td>2</td>\n",
       "      <td>23.4500</td>\n",
       "      <td>S</td>\n",
       "      <td>Third</td>\n",
       "      <td>woman</td>\n",
       "      <td>False</td>\n",
       "      <td>NaN</td>\n",
       "      <td>Southampton</td>\n",
       "      <td>no</td>\n",
       "      <td>False</td>\n",
       "    </tr>\n",
       "    <tr>\n",
       "      <th>889</th>\n",
       "      <td>1</td>\n",
       "      <td>1</td>\n",
       "      <td>male</td>\n",
       "      <td>26.0</td>\n",
       "      <td>0</td>\n",
       "      <td>0</td>\n",
       "      <td>30.0000</td>\n",
       "      <td>C</td>\n",
       "      <td>First</td>\n",
       "      <td>man</td>\n",
       "      <td>True</td>\n",
       "      <td>C</td>\n",
       "      <td>Cherbourg</td>\n",
       "      <td>yes</td>\n",
       "      <td>True</td>\n",
       "    </tr>\n",
       "    <tr>\n",
       "      <th>890</th>\n",
       "      <td>0</td>\n",
       "      <td>3</td>\n",
       "      <td>male</td>\n",
       "      <td>32.0</td>\n",
       "      <td>0</td>\n",
       "      <td>0</td>\n",
       "      <td>7.7500</td>\n",
       "      <td>Q</td>\n",
       "      <td>Third</td>\n",
       "      <td>man</td>\n",
       "      <td>True</td>\n",
       "      <td>NaN</td>\n",
       "      <td>Queenstown</td>\n",
       "      <td>no</td>\n",
       "      <td>True</td>\n",
       "    </tr>\n",
       "  </tbody>\n",
       "</table>\n",
       "<p>891 rows × 15 columns</p>\n",
       "</div>"
      ],
      "text/plain": [
       "     survived  pclass     sex   age  sibsp  parch     fare embarked   class  \\\n",
       "0           0       3    male  22.0      1      0   7.2500        S   Third   \n",
       "1           1       1  female  38.0      1      0  71.2833        C   First   \n",
       "2           1       3  female  26.0      0      0   7.9250        S   Third   \n",
       "3           1       1  female  35.0      1      0  53.1000        S   First   \n",
       "4           0       3    male  35.0      0      0   8.0500        S   Third   \n",
       "..        ...     ...     ...   ...    ...    ...      ...      ...     ...   \n",
       "886         0       2    male  27.0      0      0  13.0000        S  Second   \n",
       "887         1       1  female  19.0      0      0  30.0000        S   First   \n",
       "888         0       3  female   NaN      1      2  23.4500        S   Third   \n",
       "889         1       1    male  26.0      0      0  30.0000        C   First   \n",
       "890         0       3    male  32.0      0      0   7.7500        Q   Third   \n",
       "\n",
       "       who  adult_male deck  embark_town alive  alone  \n",
       "0      man        True  NaN  Southampton    no  False  \n",
       "1    woman       False    C    Cherbourg   yes  False  \n",
       "2    woman       False  NaN  Southampton   yes   True  \n",
       "3    woman       False    C  Southampton   yes  False  \n",
       "4      man        True  NaN  Southampton    no   True  \n",
       "..     ...         ...  ...          ...   ...    ...  \n",
       "886    man        True  NaN  Southampton    no   True  \n",
       "887  woman       False    B  Southampton   yes   True  \n",
       "888  woman       False  NaN  Southampton    no  False  \n",
       "889    man        True    C    Cherbourg   yes   True  \n",
       "890    man        True  NaN   Queenstown    no   True  \n",
       "\n",
       "[891 rows x 15 columns]"
      ]
     },
     "execution_count": 180,
     "metadata": {},
     "output_type": "execute_result"
    }
   ],
   "source": [
    "titanic"
   ]
  },
  {
   "cell_type": "code",
   "execution_count": null,
   "id": "c85bd7dc",
   "metadata": {},
   "outputs": [],
   "source": []
  },
  {
   "cell_type": "code",
   "execution_count": 183,
   "id": "35b88c0c",
   "metadata": {},
   "outputs": [
    {
     "data": {
      "text/plain": [
       "<AxesSubplot:xlabel='sex', ylabel='age'>"
      ]
     },
     "execution_count": 183,
     "metadata": {},
     "output_type": "execute_result"
    },
    {
     "data": {
      "image/png": "[encoded data removed]",
      "text/plain": [
       "<Figure size 432x288 with 1 Axes>"
      ]
     },
     "metadata": {
      "needs_background": "light"
     },
     "output_type": "display_data"
    }
   ],
   "source": [
    "sns.boxplot(data=titanic,x='sex',y='age',hue='survived')"
   ]
  },
  {
   "cell_type": "code",
   "execution_count": 189,
   "id": "4bb06e87",
   "metadata": {},
   "outputs": [
    {
     "data": {
      "text/plain": [
       "<AxesSubplot:xlabel='sex', ylabel='age'>"
      ]
     },
     "execution_count": 189,
     "metadata": {},
     "output_type": "execute_result"
    },
    {
     "data": {
      "image/png": "[encoded data removed]",
      "text/plain": [
       "<Figure size 432x288 with 1 Axes>"
      ]
     },
     "metadata": {
      "needs_background": "light"
     },
     "output_type": "display_data"
    }
   ],
   "source": [
    "sns.barplot(data=titanic,x='sex',y='age',hue='survived')"
   ]
  },
  {
   "cell_type": "code",
   "execution_count": null,
   "id": "0f9f0f4e",
   "metadata": {},
   "outputs": [],
   "source": []
  },
  {
   "cell_type": "code",
   "execution_count": 198,
   "id": "c2524b81",
   "metadata": {
    "scrolled": true
   },
   "outputs": [
    {
     "data": {
      "text/plain": [
       "<AxesSubplot:xlabel='age', ylabel='Count'>"
      ]
     },
     "execution_count": 198,
     "metadata": {},
     "output_type": "execute_result"
    },
    {
     "data": {
      "image/png": "[encoded data removed]",
      "text/plain": [
       "<Figure size 432x288 with 1 Axes>"
      ]
     },
     "metadata": {
      "needs_background": "light"
     },
     "output_type": "display_data"
    }
   ],
   "source": [
    "sns.histplot(data=titanic,x='age',hue='sex' )"
   ]
  },
  {
   "cell_type": "code",
   "execution_count": 206,
   "id": "f6487763",
   "metadata": {},
   "outputs": [
    {
     "data": {
      "text/plain": [
       "<AxesSubplot:xlabel='age', ylabel='Count'>"
      ]
     },
     "execution_count": 206,
     "metadata": {},
     "output_type": "execute_result"
    },
    {
     "data": {
      "image/png": "[encoded data removed]",
      "text/plain": [
       "<Figure size 432x288 with 1 Axes>"
      ]
     },
     "metadata": {
      "needs_background": "light"
     },
     "output_type": "display_data"
    }
   ],
   "source": [
    "sns.histplot(data=titanic,x='age',hue='survived' )"
   ]
  },
  {
   "cell_type": "code",
   "execution_count": null,
   "id": "d6fefb55",
   "metadata": {},
   "outputs": [],
   "source": []
  },
  {
   "cell_type": "code",
   "execution_count": null,
   "id": "ab6e0e9b",
   "metadata": {},
   "outputs": [],
   "source": [
    "#Q2"
   ]
  },
  {
   "cell_type": "code",
   "execution_count": 207,
   "id": "dbbc9a3b",
   "metadata": {},
   "outputs": [],
   "source": [
    "df = pd.DataFrame({'Sale ID': [1, 2, 3, 4, 5, 6, 7, 8, 9, 10], 'Source': ['Website', 'Poster 4', 'Website', 'Website', 'Poster 4', 'Poster 2', 'Email', 'Website', 'Email', 'Poster 2'], 'Profit':[2018, 2018, 2018, 2018, 2018, 2018, 2018, 2018, 2018, 2018]})"
   ]
  },
  {
   "cell_type": "code",
   "execution_count": 208,
   "id": "59184f7a",
   "metadata": {
    "scrolled": true
   },
   "outputs": [
    {
     "data": {
      "text/html": [
       "<div>\n",
       "<style scoped>\n",
       "    .dataframe tbody tr th:only-of-type {\n",
       "        vertical-align: middle;\n",
       "    }\n",
       "\n",
       "    .dataframe tbody tr th {\n",
       "        vertical-align: top;\n",
       "    }\n",
       "\n",
       "    .dataframe thead th {\n",
       "        text-align: right;\n",
       "    }\n",
       "</style>\n",
       "<table border=\"1\" class=\"dataframe\">\n",
       "  <thead>\n",
       "    <tr style=\"text-align: right;\">\n",
       "      <th></th>\n",
       "      <th>Sale ID</th>\n",
       "      <th>Source</th>\n",
       "      <th>Profit</th>\n",
       "    </tr>\n",
       "  </thead>\n",
       "  <tbody>\n",
       "    <tr>\n",
       "      <th>0</th>\n",
       "      <td>1</td>\n",
       "      <td>Website</td>\n",
       "      <td>2018</td>\n",
       "    </tr>\n",
       "    <tr>\n",
       "      <th>1</th>\n",
       "      <td>2</td>\n",
       "      <td>Poster 4</td>\n",
       "      <td>2018</td>\n",
       "    </tr>\n",
       "    <tr>\n",
       "      <th>2</th>\n",
       "      <td>3</td>\n",
       "      <td>Website</td>\n",
       "      <td>2018</td>\n",
       "    </tr>\n",
       "    <tr>\n",
       "      <th>3</th>\n",
       "      <td>4</td>\n",
       "      <td>Website</td>\n",
       "      <td>2018</td>\n",
       "    </tr>\n",
       "    <tr>\n",
       "      <th>4</th>\n",
       "      <td>5</td>\n",
       "      <td>Poster 4</td>\n",
       "      <td>2018</td>\n",
       "    </tr>\n",
       "    <tr>\n",
       "      <th>5</th>\n",
       "      <td>6</td>\n",
       "      <td>Poster 2</td>\n",
       "      <td>2018</td>\n",
       "    </tr>\n",
       "    <tr>\n",
       "      <th>6</th>\n",
       "      <td>7</td>\n",
       "      <td>Email</td>\n",
       "      <td>2018</td>\n",
       "    </tr>\n",
       "    <tr>\n",
       "      <th>7</th>\n",
       "      <td>8</td>\n",
       "      <td>Website</td>\n",
       "      <td>2018</td>\n",
       "    </tr>\n",
       "    <tr>\n",
       "      <th>8</th>\n",
       "      <td>9</td>\n",
       "      <td>Email</td>\n",
       "      <td>2018</td>\n",
       "    </tr>\n",
       "    <tr>\n",
       "      <th>9</th>\n",
       "      <td>10</td>\n",
       "      <td>Poster 2</td>\n",
       "      <td>2018</td>\n",
       "    </tr>\n",
       "  </tbody>\n",
       "</table>\n",
       "</div>"
      ],
      "text/plain": [
       "   Sale ID    Source  Profit\n",
       "0        1   Website    2018\n",
       "1        2  Poster 4    2018\n",
       "2        3   Website    2018\n",
       "3        4   Website    2018\n",
       "4        5  Poster 4    2018\n",
       "5        6  Poster 2    2018\n",
       "6        7     Email    2018\n",
       "7        8   Website    2018\n",
       "8        9     Email    2018\n",
       "9       10  Poster 2    2018"
      ]
     },
     "execution_count": 208,
     "metadata": {},
     "output_type": "execute_result"
    }
   ],
   "source": [
    "df"
   ]
  },
  {
   "cell_type": "code",
   "execution_count": 210,
   "id": "f5d2dffc",
   "metadata": {},
   "outputs": [
    {
     "data": {
      "text/plain": [
       "<AxesSubplot:xlabel='Source', ylabel='Profit'>"
      ]
     },
     "execution_count": 210,
     "metadata": {},
     "output_type": "execute_result"
    },
    {
     "data": {
      "image/png": "[encoded data removed]",
      "text/plain": [
       "<Figure size 432x288 with 1 Axes>"
      ]
     },
     "metadata": {
      "needs_background": "light"
     },
     "output_type": "display_data"
    }
   ],
   "source": [
    "sns.barplot(data=df,x='Source',y='Profit')"
   ]
  },
  {
   "cell_type": "code",
   "execution_count": null,
   "id": "6c208087",
   "metadata": {},
   "outputs": [],
   "source": []
  },
  {
   "cell_type": "code",
   "execution_count": null,
   "id": "1b0f7f31",
   "metadata": {},
   "outputs": [],
   "source": [
    "#Q4"
   ]
  },
  {
   "cell_type": "code",
   "execution_count": 211,
   "id": "6372645b",
   "metadata": {},
   "outputs": [
    {
     "ename": "ValueError",
     "evalue": "Number of rows must be a positive integer, not (3, 2)",
     "output_type": "error",
     "traceback": [
      "\u001b[1;31m---------------------------------------------------------------------------\u001b[0m",
      "\u001b[1;31mValueError\u001b[0m                                Traceback (most recent call last)",
      "Input \u001b[1;32mIn [211]\u001b[0m, in \u001b[0;36m<cell line: 1>\u001b[1;34m()\u001b[0m\n\u001b[1;32m----> 1\u001b[0m fig, ax \u001b[38;5;241m=\u001b[39m \u001b[43mplt\u001b[49m\u001b[38;5;241;43m.\u001b[39;49m\u001b[43msubplots\u001b[49m\u001b[43m(\u001b[49m\u001b[43m(\u001b[49m\u001b[38;5;241;43m3\u001b[39;49m\u001b[43m,\u001b[49m\u001b[43m \u001b[49m\u001b[38;5;241;43m2\u001b[39;49m\u001b[43m)\u001b[49m\u001b[43m)\u001b[49m\n",
      "File \u001b[1;32m~\\anaconda3\\lib\\site-packages\\matplotlib\\pyplot.py:1435\u001b[0m, in \u001b[0;36msubplots\u001b[1;34m(nrows, ncols, sharex, sharey, squeeze, subplot_kw, gridspec_kw, **fig_kw)\u001b[0m\n\u001b[0;32m   1302\u001b[0m \u001b[38;5;124;03m\"\"\"\u001b[39;00m\n\u001b[0;32m   1303\u001b[0m \u001b[38;5;124;03mCreate a figure and a set of subplots.\u001b[39;00m\n\u001b[0;32m   1304\u001b[0m \n\u001b[1;32m   (...)\u001b[0m\n\u001b[0;32m   1432\u001b[0m \n\u001b[0;32m   1433\u001b[0m \u001b[38;5;124;03m\"\"\"\u001b[39;00m\n\u001b[0;32m   1434\u001b[0m fig \u001b[38;5;241m=\u001b[39m figure(\u001b[38;5;241m*\u001b[39m\u001b[38;5;241m*\u001b[39mfig_kw)\n\u001b[1;32m-> 1435\u001b[0m axs \u001b[38;5;241m=\u001b[39m \u001b[43mfig\u001b[49m\u001b[38;5;241;43m.\u001b[39;49m\u001b[43msubplots\u001b[49m\u001b[43m(\u001b[49m\u001b[43mnrows\u001b[49m\u001b[38;5;241;43m=\u001b[39;49m\u001b[43mnrows\u001b[49m\u001b[43m,\u001b[49m\u001b[43m \u001b[49m\u001b[43mncols\u001b[49m\u001b[38;5;241;43m=\u001b[39;49m\u001b[43mncols\u001b[49m\u001b[43m,\u001b[49m\u001b[43m \u001b[49m\u001b[43msharex\u001b[49m\u001b[38;5;241;43m=\u001b[39;49m\u001b[43msharex\u001b[49m\u001b[43m,\u001b[49m\u001b[43m \u001b[49m\u001b[43msharey\u001b[49m\u001b[38;5;241;43m=\u001b[39;49m\u001b[43msharey\u001b[49m\u001b[43m,\u001b[49m\n\u001b[0;32m   1436\u001b[0m \u001b[43m                   \u001b[49m\u001b[43msqueeze\u001b[49m\u001b[38;5;241;43m=\u001b[39;49m\u001b[43msqueeze\u001b[49m\u001b[43m,\u001b[49m\u001b[43m \u001b[49m\u001b[43msubplot_kw\u001b[49m\u001b[38;5;241;43m=\u001b[39;49m\u001b[43msubplot_kw\u001b[49m\u001b[43m,\u001b[49m\n\u001b[0;32m   1437\u001b[0m \u001b[43m                   \u001b[49m\u001b[43mgridspec_kw\u001b[49m\u001b[38;5;241;43m=\u001b[39;49m\u001b[43mgridspec_kw\u001b[49m\u001b[43m)\u001b[49m\n\u001b[0;32m   1438\u001b[0m \u001b[38;5;28;01mreturn\u001b[39;00m fig, axs\n",
      "File \u001b[1;32m~\\anaconda3\\lib\\site-packages\\matplotlib\\figure.py:896\u001b[0m, in \u001b[0;36mFigureBase.subplots\u001b[1;34m(self, nrows, ncols, sharex, sharey, squeeze, subplot_kw, gridspec_kw)\u001b[0m\n\u001b[0;32m    894\u001b[0m \u001b[38;5;28;01mif\u001b[39;00m gridspec_kw \u001b[38;5;129;01mis\u001b[39;00m \u001b[38;5;28;01mNone\u001b[39;00m:\n\u001b[0;32m    895\u001b[0m     gridspec_kw \u001b[38;5;241m=\u001b[39m {}\n\u001b[1;32m--> 896\u001b[0m gs \u001b[38;5;241m=\u001b[39m \u001b[38;5;28mself\u001b[39m\u001b[38;5;241m.\u001b[39madd_gridspec(nrows, ncols, figure\u001b[38;5;241m=\u001b[39m\u001b[38;5;28mself\u001b[39m, \u001b[38;5;241m*\u001b[39m\u001b[38;5;241m*\u001b[39mgridspec_kw)\n\u001b[0;32m    897\u001b[0m axs \u001b[38;5;241m=\u001b[39m gs\u001b[38;5;241m.\u001b[39msubplots(sharex\u001b[38;5;241m=\u001b[39msharex, sharey\u001b[38;5;241m=\u001b[39msharey, squeeze\u001b[38;5;241m=\u001b[39msqueeze,\n\u001b[0;32m    898\u001b[0m                   subplot_kw\u001b[38;5;241m=\u001b[39msubplot_kw)\n\u001b[0;32m    899\u001b[0m \u001b[38;5;28;01mreturn\u001b[39;00m axs\n",
      "File \u001b[1;32m~\\anaconda3\\lib\\site-packages\\matplotlib\\figure.py:1395\u001b[0m, in \u001b[0;36mFigureBase.add_gridspec\u001b[1;34m(self, nrows, ncols, **kwargs)\u001b[0m\n\u001b[0;32m   1356\u001b[0m \u001b[38;5;124;03m\"\"\"\u001b[39;00m\n\u001b[0;32m   1357\u001b[0m \u001b[38;5;124;03mReturn a `.GridSpec` that has this figure as a parent.  This allows\u001b[39;00m\n\u001b[0;32m   1358\u001b[0m \u001b[38;5;124;03mcomplex layout of Axes in the figure.\u001b[39;00m\n\u001b[1;32m   (...)\u001b[0m\n\u001b[0;32m   1391\u001b[0m \n\u001b[0;32m   1392\u001b[0m \u001b[38;5;124;03m\"\"\"\u001b[39;00m\n\u001b[0;32m   1394\u001b[0m _ \u001b[38;5;241m=\u001b[39m kwargs\u001b[38;5;241m.\u001b[39mpop(\u001b[38;5;124m'\u001b[39m\u001b[38;5;124mfigure\u001b[39m\u001b[38;5;124m'\u001b[39m, \u001b[38;5;28;01mNone\u001b[39;00m)  \u001b[38;5;66;03m# pop in case user has added this...\u001b[39;00m\n\u001b[1;32m-> 1395\u001b[0m gs \u001b[38;5;241m=\u001b[39m GridSpec(nrows\u001b[38;5;241m=\u001b[39mnrows, ncols\u001b[38;5;241m=\u001b[39mncols, figure\u001b[38;5;241m=\u001b[39m\u001b[38;5;28mself\u001b[39m, \u001b[38;5;241m*\u001b[39m\u001b[38;5;241m*\u001b[39mkwargs)\n\u001b[0;32m   1396\u001b[0m \u001b[38;5;28mself\u001b[39m\u001b[38;5;241m.\u001b[39m_gridspecs\u001b[38;5;241m.\u001b[39mappend(gs)\n\u001b[0;32m   1397\u001b[0m \u001b[38;5;28;01mreturn\u001b[39;00m gs\n",
      "File \u001b[1;32m~\\anaconda3\\lib\\site-packages\\matplotlib\\gridspec.py:385\u001b[0m, in \u001b[0;36mGridSpec.__init__\u001b[1;34m(self, nrows, ncols, figure, left, bottom, right, top, wspace, hspace, width_ratios, height_ratios)\u001b[0m\n\u001b[0;32m    382\u001b[0m \u001b[38;5;28mself\u001b[39m\u001b[38;5;241m.\u001b[39mhspace \u001b[38;5;241m=\u001b[39m hspace\n\u001b[0;32m    383\u001b[0m \u001b[38;5;28mself\u001b[39m\u001b[38;5;241m.\u001b[39mfigure \u001b[38;5;241m=\u001b[39m figure\n\u001b[1;32m--> 385\u001b[0m \u001b[38;5;28;43msuper\u001b[39;49m\u001b[43m(\u001b[49m\u001b[43m)\u001b[49m\u001b[38;5;241;43m.\u001b[39;49m\u001b[38;5;21;43m__init__\u001b[39;49m\u001b[43m(\u001b[49m\u001b[43mnrows\u001b[49m\u001b[43m,\u001b[49m\u001b[43m \u001b[49m\u001b[43mncols\u001b[49m\u001b[43m,\u001b[49m\n\u001b[0;32m    386\u001b[0m \u001b[43m                 \u001b[49m\u001b[43mwidth_ratios\u001b[49m\u001b[38;5;241;43m=\u001b[39;49m\u001b[43mwidth_ratios\u001b[49m\u001b[43m,\u001b[49m\n\u001b[0;32m    387\u001b[0m \u001b[43m                 \u001b[49m\u001b[43mheight_ratios\u001b[49m\u001b[38;5;241;43m=\u001b[39;49m\u001b[43mheight_ratios\u001b[49m\u001b[43m)\u001b[49m\n",
      "File \u001b[1;32m~\\anaconda3\\lib\\site-packages\\matplotlib\\gridspec.py:49\u001b[0m, in \u001b[0;36mGridSpecBase.__init__\u001b[1;34m(self, nrows, ncols, height_ratios, width_ratios)\u001b[0m\n\u001b[0;32m     34\u001b[0m \u001b[38;5;124;03m\"\"\"\u001b[39;00m\n\u001b[0;32m     35\u001b[0m \u001b[38;5;124;03mParameters\u001b[39;00m\n\u001b[0;32m     36\u001b[0m \u001b[38;5;124;03m----------\u001b[39;00m\n\u001b[1;32m   (...)\u001b[0m\n\u001b[0;32m     46\u001b[0m \u001b[38;5;124;03m    If not given, all rows will have the same height.\u001b[39;00m\n\u001b[0;32m     47\u001b[0m \u001b[38;5;124;03m\"\"\"\u001b[39;00m\n\u001b[0;32m     48\u001b[0m \u001b[38;5;28;01mif\u001b[39;00m \u001b[38;5;129;01mnot\u001b[39;00m \u001b[38;5;28misinstance\u001b[39m(nrows, Integral) \u001b[38;5;129;01mor\u001b[39;00m nrows \u001b[38;5;241m<\u001b[39m\u001b[38;5;241m=\u001b[39m \u001b[38;5;241m0\u001b[39m:\n\u001b[1;32m---> 49\u001b[0m     \u001b[38;5;28;01mraise\u001b[39;00m \u001b[38;5;167;01mValueError\u001b[39;00m(\n\u001b[0;32m     50\u001b[0m         \u001b[38;5;124mf\u001b[39m\u001b[38;5;124m\"\u001b[39m\u001b[38;5;124mNumber of rows must be a positive integer, not \u001b[39m\u001b[38;5;132;01m{\u001b[39;00mnrows\u001b[38;5;132;01m!r}\u001b[39;00m\u001b[38;5;124m\"\u001b[39m)\n\u001b[0;32m     51\u001b[0m \u001b[38;5;28;01mif\u001b[39;00m \u001b[38;5;129;01mnot\u001b[39;00m \u001b[38;5;28misinstance\u001b[39m(ncols, Integral) \u001b[38;5;129;01mor\u001b[39;00m ncols \u001b[38;5;241m<\u001b[39m\u001b[38;5;241m=\u001b[39m \u001b[38;5;241m0\u001b[39m:\n\u001b[0;32m     52\u001b[0m     \u001b[38;5;28;01mraise\u001b[39;00m \u001b[38;5;167;01mValueError\u001b[39;00m(\n\u001b[0;32m     53\u001b[0m         \u001b[38;5;124mf\u001b[39m\u001b[38;5;124m\"\u001b[39m\u001b[38;5;124mNumber of columns must be a positive integer, not \u001b[39m\u001b[38;5;132;01m{\u001b[39;00mncols\u001b[38;5;132;01m!r}\u001b[39;00m\u001b[38;5;124m\"\u001b[39m)\n",
      "\u001b[1;31mValueError\u001b[0m: Number of rows must be a positive integer, not (3, 2)"
     ]
    },
    {
     "data": {
      "text/plain": [
       "<Figure size 432x288 with 0 Axes>"
      ]
     },
     "metadata": {},
     "output_type": "display_data"
    }
   ],
   "source": [
    "fig, ax = plt.subplots((3, 2))"
   ]
  },
  {
   "cell_type": "code",
   "execution_count": 212,
   "id": "b8fe24c2",
   "metadata": {},
   "outputs": [
    {
     "data": {
      "image/png": "[encoded data removed]",
      "text/plain": [
       "<Figure size 432x288 with 6 Axes>"
      ]
     },
     "metadata": {
      "needs_background": "light"
     },
     "output_type": "display_data"
    }
   ],
   "source": [
    "fig, ax = plt.subplots(3, 2)"
   ]
  },
  {
   "cell_type": "code",
   "execution_count": 213,
   "id": "2ca9fe09",
   "metadata": {},
   "outputs": [
    {
     "data": {
      "text/plain": [
       "(<Figure size 432x288 with 6 Axes>,\n",
       " array([[<AxesSubplot:>, <AxesSubplot:>],\n",
       "        [<AxesSubplot:>, <AxesSubplot:>],\n",
       "        [<AxesSubplot:>, <AxesSubplot:>]], dtype=object))"
      ]
     },
     "execution_count": 213,
     "metadata": {},
     "output_type": "execute_result"
    },
    {
     "data": {
      "image/png": "[encoded data removed]",
      "text/plain": [
       "<Figure size 432x288 with 6 Axes>"
      ]
     },
     "metadata": {
      "needs_background": "light"
     },
     "output_type": "display_data"
    }
   ],
   "source": [
    " plt.subplots(3, 2)"
   ]
  },
  {
   "cell_type": "code",
   "execution_count": null,
   "id": "b3a77ff1",
   "metadata": {},
   "outputs": [],
   "source": []
  },
  {
   "cell_type": "code",
   "execution_count": null,
   "id": "95c23da1",
   "metadata": {},
   "outputs": [],
   "source": []
  },
  {
   "cell_type": "code",
   "execution_count": null,
   "id": "0b5bfbf8",
   "metadata": {},
   "outputs": [],
   "source": []
  }
 ],
 "metadata": {
  "kernelspec": {
   "display_name": "Python 3 (ipykernel)",
   "language": "python",
   "name": "python3"
  },
  "language_info": {
   "codemirror_mode": {
    "name": "ipython",
    "version": 3
   },
   "file_extension": ".py",
   "mimetype": "text/x-python",
   "name": "python",
   "nbconvert_exporter": "python",
   "pygments_lexer": "ipython3",
   "version": "3.9.12"
  }
 },
 "nbformat": 4,
 "nbformat_minor": 5
}
